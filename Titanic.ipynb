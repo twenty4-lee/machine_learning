{
  "nbformat": 4,
  "nbformat_minor": 0,
  "metadata": {
    "colab": {
      "name": "Titanic.ipynb",
      "provenance": [],
      "collapsed_sections": []
    },
    "kernelspec": {
      "name": "python3",
      "display_name": "Python 3"
    }
  },
  "cells": [
    {
      "cell_type": "code",
      "metadata": {
        "id": "VAy-SWFZqkeV",
        "colab": {
          "base_uri": "https://localhost:8080/",
          "height": 574
        },
        "outputId": "c3783572-0fae-41aa-cd94-614618a87a79"
      },
      "source": [
        "import pandas as pd\n",
        "\n",
        "titanic = pd.read_csv('./titanic.csv')\n",
        "titanic.head()"
      ],
      "execution_count": 4,
      "outputs": [
        {
          "output_type": "execute_result",
          "data": {
            "text/plain": [
              "   pclass  survived                                             name     sex  \\\n",
              "0     1.0       1.0                    Allen, Miss. Elisabeth Walton  female   \n",
              "1     1.0       1.0                   Allison, Master. Hudson Trevor    male   \n",
              "2     1.0       0.0                     Allison, Miss. Helen Loraine  female   \n",
              "3     1.0       0.0             Allison, Mr. Hudson Joshua Creighton    male   \n",
              "4     1.0       0.0  Allison, Mrs. Hudson J C (Bessie Waldo Daniels)  female   \n",
              "\n",
              "       age  sibsp  parch  ticket      fare    cabin embarked boat   body  \\\n",
              "0  29.0000    0.0    0.0   24160  211.3375       B5        S    2    NaN   \n",
              "1   0.9167    1.0    2.0  113781  151.5500  C22 C26        S   11    NaN   \n",
              "2   2.0000    1.0    2.0  113781  151.5500  C22 C26        S  NaN    NaN   \n",
              "3  30.0000    1.0    2.0  113781  151.5500  C22 C26        S  NaN  135.0   \n",
              "4  25.0000    1.0    2.0  113781  151.5500  C22 C26        S  NaN    NaN   \n",
              "\n",
              "                         home.dest  \n",
              "0                     St Louis, MO  \n",
              "1  Montreal, PQ / Chesterville, ON  \n",
              "2  Montreal, PQ / Chesterville, ON  \n",
              "3  Montreal, PQ / Chesterville, ON  \n",
              "4  Montreal, PQ / Chesterville, ON  "
            ],
            "text/html": [
              "\n",
              "  <div id=\"df-4ab29838-c1eb-402d-be2b-68a439477b1b\">\n",
              "    <div class=\"colab-df-container\">\n",
              "      <div>\n",
              "<style scoped>\n",
              "    .dataframe tbody tr th:only-of-type {\n",
              "        vertical-align: middle;\n",
              "    }\n",
              "\n",
              "    .dataframe tbody tr th {\n",
              "        vertical-align: top;\n",
              "    }\n",
              "\n",
              "    .dataframe thead th {\n",
              "        text-align: right;\n",
              "    }\n",
              "</style>\n",
              "<table border=\"1\" class=\"dataframe\">\n",
              "  <thead>\n",
              "    <tr style=\"text-align: right;\">\n",
              "      <th></th>\n",
              "      <th>pclass</th>\n",
              "      <th>survived</th>\n",
              "      <th>name</th>\n",
              "      <th>sex</th>\n",
              "      <th>age</th>\n",
              "      <th>sibsp</th>\n",
              "      <th>parch</th>\n",
              "      <th>ticket</th>\n",
              "      <th>fare</th>\n",
              "      <th>cabin</th>\n",
              "      <th>embarked</th>\n",
              "      <th>boat</th>\n",
              "      <th>body</th>\n",
              "      <th>home.dest</th>\n",
              "    </tr>\n",
              "  </thead>\n",
              "  <tbody>\n",
              "    <tr>\n",
              "      <th>0</th>\n",
              "      <td>1.0</td>\n",
              "      <td>1.0</td>\n",
              "      <td>Allen, Miss. Elisabeth Walton</td>\n",
              "      <td>female</td>\n",
              "      <td>29.0000</td>\n",
              "      <td>0.0</td>\n",
              "      <td>0.0</td>\n",
              "      <td>24160</td>\n",
              "      <td>211.3375</td>\n",
              "      <td>B5</td>\n",
              "      <td>S</td>\n",
              "      <td>2</td>\n",
              "      <td>NaN</td>\n",
              "      <td>St Louis, MO</td>\n",
              "    </tr>\n",
              "    <tr>\n",
              "      <th>1</th>\n",
              "      <td>1.0</td>\n",
              "      <td>1.0</td>\n",
              "      <td>Allison, Master. Hudson Trevor</td>\n",
              "      <td>male</td>\n",
              "      <td>0.9167</td>\n",
              "      <td>1.0</td>\n",
              "      <td>2.0</td>\n",
              "      <td>113781</td>\n",
              "      <td>151.5500</td>\n",
              "      <td>C22 C26</td>\n",
              "      <td>S</td>\n",
              "      <td>11</td>\n",
              "      <td>NaN</td>\n",
              "      <td>Montreal, PQ / Chesterville, ON</td>\n",
              "    </tr>\n",
              "    <tr>\n",
              "      <th>2</th>\n",
              "      <td>1.0</td>\n",
              "      <td>0.0</td>\n",
              "      <td>Allison, Miss. Helen Loraine</td>\n",
              "      <td>female</td>\n",
              "      <td>2.0000</td>\n",
              "      <td>1.0</td>\n",
              "      <td>2.0</td>\n",
              "      <td>113781</td>\n",
              "      <td>151.5500</td>\n",
              "      <td>C22 C26</td>\n",
              "      <td>S</td>\n",
              "      <td>NaN</td>\n",
              "      <td>NaN</td>\n",
              "      <td>Montreal, PQ / Chesterville, ON</td>\n",
              "    </tr>\n",
              "    <tr>\n",
              "      <th>3</th>\n",
              "      <td>1.0</td>\n",
              "      <td>0.0</td>\n",
              "      <td>Allison, Mr. Hudson Joshua Creighton</td>\n",
              "      <td>male</td>\n",
              "      <td>30.0000</td>\n",
              "      <td>1.0</td>\n",
              "      <td>2.0</td>\n",
              "      <td>113781</td>\n",
              "      <td>151.5500</td>\n",
              "      <td>C22 C26</td>\n",
              "      <td>S</td>\n",
              "      <td>NaN</td>\n",
              "      <td>135.0</td>\n",
              "      <td>Montreal, PQ / Chesterville, ON</td>\n",
              "    </tr>\n",
              "    <tr>\n",
              "      <th>4</th>\n",
              "      <td>1.0</td>\n",
              "      <td>0.0</td>\n",
              "      <td>Allison, Mrs. Hudson J C (Bessie Waldo Daniels)</td>\n",
              "      <td>female</td>\n",
              "      <td>25.0000</td>\n",
              "      <td>1.0</td>\n",
              "      <td>2.0</td>\n",
              "      <td>113781</td>\n",
              "      <td>151.5500</td>\n",
              "      <td>C22 C26</td>\n",
              "      <td>S</td>\n",
              "      <td>NaN</td>\n",
              "      <td>NaN</td>\n",
              "      <td>Montreal, PQ / Chesterville, ON</td>\n",
              "    </tr>\n",
              "  </tbody>\n",
              "</table>\n",
              "</div>\n",
              "      <button class=\"colab-df-convert\" onclick=\"convertToInteractive('df-4ab29838-c1eb-402d-be2b-68a439477b1b')\"\n",
              "              title=\"Convert this dataframe to an interactive table.\"\n",
              "              style=\"display:none;\">\n",
              "        \n",
              "  <svg xmlns=\"http://www.w3.org/2000/svg\" height=\"24px\"viewBox=\"0 0 24 24\"\n",
              "       width=\"24px\">\n",
              "    <path d=\"M0 0h24v24H0V0z\" fill=\"none\"/>\n",
              "    <path d=\"M18.56 5.44l.94 2.06.94-2.06 2.06-.94-2.06-.94-.94-2.06-.94 2.06-2.06.94zm-11 1L8.5 8.5l.94-2.06 2.06-.94-2.06-.94L8.5 2.5l-.94 2.06-2.06.94zm10 10l.94 2.06.94-2.06 2.06-.94-2.06-.94-.94-2.06-.94 2.06-2.06.94z\"/><path d=\"M17.41 7.96l-1.37-1.37c-.4-.4-.92-.59-1.43-.59-.52 0-1.04.2-1.43.59L10.3 9.45l-7.72 7.72c-.78.78-.78 2.05 0 2.83L4 21.41c.39.39.9.59 1.41.59.51 0 1.02-.2 1.41-.59l7.78-7.78 2.81-2.81c.8-.78.8-2.07 0-2.86zM5.41 20L4 18.59l7.72-7.72 1.47 1.35L5.41 20z\"/>\n",
              "  </svg>\n",
              "      </button>\n",
              "      \n",
              "  <style>\n",
              "    .colab-df-container {\n",
              "      display:flex;\n",
              "      flex-wrap:wrap;\n",
              "      gap: 12px;\n",
              "    }\n",
              "\n",
              "    .colab-df-convert {\n",
              "      background-color: #E8F0FE;\n",
              "      border: none;\n",
              "      border-radius: 50%;\n",
              "      cursor: pointer;\n",
              "      display: none;\n",
              "      fill: #1967D2;\n",
              "      height: 32px;\n",
              "      padding: 0 0 0 0;\n",
              "      width: 32px;\n",
              "    }\n",
              "\n",
              "    .colab-df-convert:hover {\n",
              "      background-color: #E2EBFA;\n",
              "      box-shadow: 0px 1px 2px rgba(60, 64, 67, 0.3), 0px 1px 3px 1px rgba(60, 64, 67, 0.15);\n",
              "      fill: #174EA6;\n",
              "    }\n",
              "\n",
              "    [theme=dark] .colab-df-convert {\n",
              "      background-color: #3B4455;\n",
              "      fill: #D2E3FC;\n",
              "    }\n",
              "\n",
              "    [theme=dark] .colab-df-convert:hover {\n",
              "      background-color: #434B5C;\n",
              "      box-shadow: 0px 1px 3px 1px rgba(0, 0, 0, 0.15);\n",
              "      filter: drop-shadow(0px 1px 2px rgba(0, 0, 0, 0.3));\n",
              "      fill: #FFFFFF;\n",
              "    }\n",
              "  </style>\n",
              "\n",
              "      <script>\n",
              "        const buttonEl =\n",
              "          document.querySelector('#df-4ab29838-c1eb-402d-be2b-68a439477b1b button.colab-df-convert');\n",
              "        buttonEl.style.display =\n",
              "          google.colab.kernel.accessAllowed ? 'block' : 'none';\n",
              "\n",
              "        async function convertToInteractive(key) {\n",
              "          const element = document.querySelector('#df-4ab29838-c1eb-402d-be2b-68a439477b1b');\n",
              "          const dataTable =\n",
              "            await google.colab.kernel.invokeFunction('convertToInteractive',\n",
              "                                                     [key], {});\n",
              "          if (!dataTable) return;\n",
              "\n",
              "          const docLinkHtml = 'Like what you see? Visit the ' +\n",
              "            '<a target=\"_blank\" href=https://colab.research.google.com/notebooks/data_table.ipynb>data table notebook</a>'\n",
              "            + ' to learn more about interactive tables.';\n",
              "          element.innerHTML = '';\n",
              "          dataTable['output_type'] = 'display_data';\n",
              "          await google.colab.output.renderOutput(dataTable, element);\n",
              "          const docLink = document.createElement('div');\n",
              "          docLink.innerHTML = docLinkHtml;\n",
              "          element.appendChild(docLink);\n",
              "        }\n",
              "      </script>\n",
              "    </div>\n",
              "  </div>\n",
              "  "
            ]
          },
          "metadata": {},
          "execution_count": 4
        }
      ]
    },
    {
      "cell_type": "code",
      "metadata": {
        "id": "h-ne-GU3rdn0",
        "colab": {
          "base_uri": "https://localhost:8080/",
          "height": 380
        },
        "outputId": "c188933f-9393-421a-d902-3726aa758ddb"
      },
      "source": [
        "import matplotlib.pyplot as plt\n",
        "import seaborn as sns\n",
        "%matplotlib inline\n",
        "\n",
        "f, ax = plt.subplots(1, 2, figsize=(18, 8))\n",
        "\n",
        "titanic['survived'].value_counts().plot.pie(explode=[0, 0.1],\n",
        "                                            autopct = '%1.1f%%', ax=ax[0], shadow=True)\n",
        "ax[0].set_title('Pie plot - Survived')\n",
        "ax[0].set_ylabel('') #ylabel은 없애기\n",
        "#막대 그래프\n",
        "sns.countplot('survived', data = titanic, ax=ax[1])\n",
        "ax[1].set_title('Count plot - Survived')\n",
        "plt.show()\n"
      ],
      "execution_count": 6,
      "outputs": [
        {
          "output_type": "stream",
          "name": "stderr",
          "text": [
            "/usr/local/lib/python3.7/dist-packages/seaborn/_decorators.py:43: FutureWarning: Pass the following variable as a keyword arg: x. From version 0.12, the only valid positional argument will be `data`, and passing other arguments without an explicit keyword will result in an error or misinterpretation.\n",
            "  FutureWarning\n"
          ]
        },
        {
          "output_type": "display_data",
          "data": {
            "text/plain": [
              "<Figure size 1296x576 with 2 Axes>"
            ],
            "image/png": "[encoded data removed]"
          },
          "metadata": {
            "needs_background": "light"
          }
        }
      ]
    },
    {
      "cell_type": "markdown",
      "source": [
        "그래프 2개로 성별 column을 가지고 생존자 여부 표시"
      ],
      "metadata": {
        "id": "El1kUgHbHFeb"
      }
    },
    {
      "cell_type": "code",
      "metadata": {
        "id": "AVirqBQCrmU2",
        "colab": {
          "base_uri": "https://localhost:8080/",
          "height": 403
        },
        "outputId": "30416877-f92d-4872-d83b-8092cdbe5e9f"
      },
      "source": [
        "f, ax = plt.subplots(1, 2, figsize=(18, 8))\n",
        "#남녀별로 타이타닉호에 탄 숫자\n",
        "sns.countplot('sex', data = titanic, ax = ax[0])\n",
        "ax[0].set_title('Count of Passengers of Sex')\n",
        "ax[0].set_ylabel('') \n",
        "#hue: 색상으로 강조를 한다. 남녀 총 숫자 + 생존자 숫자\n",
        "sns.countplot('sex', hue = 'survived', data = titanic, ax = ax[1]) #0이 사망. 1 이 생존\n",
        "ax[1].set_title('Sex:Survived and Unsurvived')\n",
        "plt.show()"
      ],
      "execution_count": 7,
      "outputs": [
        {
          "output_type": "stream",
          "name": "stderr",
          "text": [
            "/usr/local/lib/python3.7/dist-packages/seaborn/_decorators.py:43: FutureWarning: Pass the following variable as a keyword arg: x. From version 0.12, the only valid positional argument will be `data`, and passing other arguments without an explicit keyword will result in an error or misinterpretation.\n",
            "  FutureWarning\n",
            "/usr/local/lib/python3.7/dist-packages/seaborn/_decorators.py:43: FutureWarning: Pass the following variable as a keyword arg: x. From version 0.12, the only valid positional argument will be `data`, and passing other arguments without an explicit keyword will result in an error or misinterpretation.\n",
            "  FutureWarning\n"
          ]
        },
        {
          "output_type": "display_data",
          "data": {
            "text/plain": [
              "<Figure size 1296x576 with 2 Axes>"
            ],
            "image/png": "[encoded data removed]"
          },
          "metadata": {
            "needs_background": "light"
          }
        }
      ]
    },
    {
      "cell_type": "markdown",
      "source": [
        "경제력 대비 생존률 crosstab"
      ],
      "metadata": {
        "id": "rRaGIa3ZHRkI"
      }
    },
    {
      "cell_type": "code",
      "metadata": {
        "id": "sXXChBMtvgm4",
        "colab": {
          "base_uri": "https://localhost:8080/",
          "height": 204
        },
        "outputId": "5e4c0847-62fa-4b97-f48a-784f869820a5"
      },
      "source": [
        "pd.crosstab(titanic['pclass'], titanic['survived'], margins = True) #가로, 세로, margin 합계\n"
      ],
      "execution_count": 8,
      "outputs": [
        {
          "output_type": "execute_result",
          "data": {
            "text/plain": [
              "survived  0.0  1.0   All\n",
              "pclass                  \n",
              "1.0       123  200   323\n",
              "2.0       158  119   277\n",
              "3.0       528  181   709\n",
              "All       809  500  1309"
            ],
            "text/html": [
              "\n",
              "  <div id=\"df-9889b584-4224-491a-8592-d5f17af066d5\">\n",
              "    <div class=\"colab-df-container\">\n",
              "      <div>\n",
              "<style scoped>\n",
              "    .dataframe tbody tr th:only-of-type {\n",
              "        vertical-align: middle;\n",
              "    }\n",
              "\n",
              "    .dataframe tbody tr th {\n",
              "        vertical-align: top;\n",
              "    }\n",
              "\n",
              "    .dataframe thead th {\n",
              "        text-align: right;\n",
              "    }\n",
              "</style>\n",
              "<table border=\"1\" class=\"dataframe\">\n",
              "  <thead>\n",
              "    <tr style=\"text-align: right;\">\n",
              "      <th>survived</th>\n",
              "      <th>0.0</th>\n",
              "      <th>1.0</th>\n",
              "      <th>All</th>\n",
              "    </tr>\n",
              "    <tr>\n",
              "      <th>pclass</th>\n",
              "      <th></th>\n",
              "      <th></th>\n",
              "      <th></th>\n",
              "    </tr>\n",
              "  </thead>\n",
              "  <tbody>\n",
              "    <tr>\n",
              "      <th>1.0</th>\n",
              "      <td>123</td>\n",
              "      <td>200</td>\n",
              "      <td>323</td>\n",
              "    </tr>\n",
              "    <tr>\n",
              "      <th>2.0</th>\n",
              "      <td>158</td>\n",
              "      <td>119</td>\n",
              "      <td>277</td>\n",
              "    </tr>\n",
              "    <tr>\n",
              "      <th>3.0</th>\n",
              "      <td>528</td>\n",
              "      <td>181</td>\n",
              "      <td>709</td>\n",
              "    </tr>\n",
              "    <tr>\n",
              "      <th>All</th>\n",
              "      <td>809</td>\n",
              "      <td>500</td>\n",
              "      <td>1309</td>\n",
              "    </tr>\n",
              "  </tbody>\n",
              "</table>\n",
              "</div>\n",
              "      <button class=\"colab-df-convert\" onclick=\"convertToInteractive('df-9889b584-4224-491a-8592-d5f17af066d5')\"\n",
              "              title=\"Convert this dataframe to an interactive table.\"\n",
              "              style=\"display:none;\">\n",
              "        \n",
              "  <svg xmlns=\"http://www.w3.org/2000/svg\" height=\"24px\"viewBox=\"0 0 24 24\"\n",
              "       width=\"24px\">\n",
              "    <path d=\"M0 0h24v24H0V0z\" fill=\"none\"/>\n",
              "    <path d=\"M18.56 5.44l.94 2.06.94-2.06 2.06-.94-2.06-.94-.94-2.06-.94 2.06-2.06.94zm-11 1L8.5 8.5l.94-2.06 2.06-.94-2.06-.94L8.5 2.5l-.94 2.06-2.06.94zm10 10l.94 2.06.94-2.06 2.06-.94-2.06-.94-.94-2.06-.94 2.06-2.06.94z\"/><path d=\"M17.41 7.96l-1.37-1.37c-.4-.4-.92-.59-1.43-.59-.52 0-1.04.2-1.43.59L10.3 9.45l-7.72 7.72c-.78.78-.78 2.05 0 2.83L4 21.41c.39.39.9.59 1.41.59.51 0 1.02-.2 1.41-.59l7.78-7.78 2.81-2.81c.8-.78.8-2.07 0-2.86zM5.41 20L4 18.59l7.72-7.72 1.47 1.35L5.41 20z\"/>\n",
              "  </svg>\n",
              "      </button>\n",
              "      \n",
              "  <style>\n",
              "    .colab-df-container {\n",
              "      display:flex;\n",
              "      flex-wrap:wrap;\n",
              "      gap: 12px;\n",
              "    }\n",
              "\n",
              "    .colab-df-convert {\n",
              "      background-color: #E8F0FE;\n",
              "      border: none;\n",
              "      border-radius: 50%;\n",
              "      cursor: pointer;\n",
              "      display: none;\n",
              "      fill: #1967D2;\n",
              "      height: 32px;\n",
              "      padding: 0 0 0 0;\n",
              "      width: 32px;\n",
              "    }\n",
              "\n",
              "    .colab-df-convert:hover {\n",
              "      background-color: #E2EBFA;\n",
              "      box-shadow: 0px 1px 2px rgba(60, 64, 67, 0.3), 0px 1px 3px 1px rgba(60, 64, 67, 0.15);\n",
              "      fill: #174EA6;\n",
              "    }\n",
              "\n",
              "    [theme=dark] .colab-df-convert {\n",
              "      background-color: #3B4455;\n",
              "      fill: #D2E3FC;\n",
              "    }\n",
              "\n",
              "    [theme=dark] .colab-df-convert:hover {\n",
              "      background-color: #434B5C;\n",
              "      box-shadow: 0px 1px 3px 1px rgba(0, 0, 0, 0.15);\n",
              "      filter: drop-shadow(0px 1px 2px rgba(0, 0, 0, 0.3));\n",
              "      fill: #FFFFFF;\n",
              "    }\n",
              "  </style>\n",
              "\n",
              "      <script>\n",
              "        const buttonEl =\n",
              "          document.querySelector('#df-9889b584-4224-491a-8592-d5f17af066d5 button.colab-df-convert');\n",
              "        buttonEl.style.display =\n",
              "          google.colab.kernel.accessAllowed ? 'block' : 'none';\n",
              "\n",
              "        async function convertToInteractive(key) {\n",
              "          const element = document.querySelector('#df-9889b584-4224-491a-8592-d5f17af066d5');\n",
              "          const dataTable =\n",
              "            await google.colab.kernel.invokeFunction('convertToInteractive',\n",
              "                                                     [key], {});\n",
              "          if (!dataTable) return;\n",
              "\n",
              "          const docLinkHtml = 'Like what you see? Visit the ' +\n",
              "            '<a target=\"_blank\" href=https://colab.research.google.com/notebooks/data_table.ipynb>data table notebook</a>'\n",
              "            + ' to learn more about interactive tables.';\n",
              "          element.innerHTML = '';\n",
              "          dataTable['output_type'] = 'display_data';\n",
              "          await google.colab.output.renderOutput(dataTable, element);\n",
              "          const docLink = document.createElement('div');\n",
              "          docLink.innerHTML = docLinkHtml;\n",
              "          element.appendChild(docLink);\n",
              "        }\n",
              "      </script>\n",
              "    </div>\n",
              "  </div>\n",
              "  "
            ]
          },
          "metadata": {},
          "execution_count": 8
        }
      ]
    },
    {
      "cell_type": "markdown",
      "source": [
        "선실 등급별 성별 현황 FacetGrid"
      ],
      "metadata": {
        "id": "u_2HBkwWHW2j"
      }
    },
    {
      "cell_type": "code",
      "metadata": {
        "id": "oHD-py0uyPTF",
        "colab": {
          "base_uri": "https://localhost:8080/",
          "height": 504
        },
        "outputId": "100fe19f-ef82-4cea-eeef-2ef9f72376f1"
      },
      "source": [
        "grid = sns.FacetGrid(titanic, row = 'pclass', col = 'sex', height = 3, aspect = 2)\n",
        "grid.map(plt.hist, 'age', alpha = 0.8, bins = 20) #alpha = 투명도, bins = 몇 등분으로 나눌 것인가 \n"
      ],
      "execution_count": 9,
      "outputs": [
        {
          "output_type": "execute_result",
          "data": {
            "text/plain": [
              "<seaborn.axisgrid.FacetGrid at 0x7f71563c8590>"
            ]
          },
          "metadata": {},
          "execution_count": 9
        },
        {
          "output_type": "display_data",
          "data": {
            "text/plain": [
              "<Figure size 864x648 with 6 Axes>"
            ],
            "image/png": "[encoded data removed]"
          },
          "metadata": {
            "needs_background": "light"
          }
        }
      ]
    },
    {
      "cell_type": "code",
      "metadata": {
        "id": "gfRgjrviy1AN",
        "colab": {
          "base_uri": "https://localhost:8080/",
          "height": 542
        },
        "outputId": "c548bd64-94c2-40d1-a2ff-238e5e306317"
      },
      "source": [
        "import plotly.express as px\n",
        "\n",
        "fig = px.histogram(titanic, x = \"age\")\n",
        "fig.show()"
      ],
      "execution_count": 10,
      "outputs": [
        {
          "output_type": "display_data",
          "data": {
            "text/html": [
              "<html>\n",
              "<head><meta charset=\"utf-8\" /></head>\n",
              "<body>\n",
              "    <div>            <script src=\"https://cdnjs.cloudflare.com/ajax/libs/mathjax/2.7.5/MathJax.js?config=TeX-AMS-MML_SVG\"></script><script type=\"text/javascript\">if (window.MathJax) {MathJax.Hub.Config({SVG: {font: \"STIX-Web\"}});}</script>                <script type=\"text/javascript\">window.PlotlyConfig = {MathJaxConfig: 'local'};</script>\n",
              "        <script src=\"https://cdn.plot.ly/plotly-2.8.3.min.js\"></script>                <div id=\"9a0b2eb9-21ae-4520-9546-e921bbe3add9\" class=\"plotly-graph-div\" style=\"height:525px; width:100%;\"></div>            <script type=\"text/javascript\">                                    window.PLOTLYENV=window.PLOTLYENV || {};                                    if (document.getElementById(\"9a0b2eb9-21ae-4520-9546-e921bbe3add9\")) {                    Plotly.newPlot(                        \"9a0b2eb9-21ae-4520-9546-e921bbe3add9\",                        [{\"alignmentgroup\":\"True\",\"bingroup\":\"x\",\"hovertemplate\":\"age=%{x}<br>count=%{y}<extra></extra>\",\"legendgroup\":\"\",\"marker\":{\"color\":\"#636efa\",\"pattern\":{\"shape\":\"\"}},\"name\":\"\",\"offsetgroup\":\"\",\"orientation\":\"v\",\"showlegend\":false,\"x\":[29.0,0.9167,2.0,30.0,25.0,48.0,63.0,39.0,53.0,71.0,47.0,18.0,24.0,26.0,80.0,null,24.0,50.0,32.0,36.0,37.0,47.0,26.0,42.0,29.0,25.0,25.0,19.0,35.0,28.0,45.0,40.0,30.0,58.0,42.0,45.0,22.0,null,41.0,48.0,null,44.0,59.0,60.0,41.0,45.0,null,42.0,53.0,36.0,58.0,33.0,28.0,17.0,11.0,14.0,36.0,36.0,49.0,null,36.0,76.0,46.0,47.0,27.0,33.0,36.0,30.0,45.0,null,null,27.0,26.0,22.0,null,47.0,39.0,37.0,64.0,55.0,null,70.0,36.0,64.0,39.0,38.0,51.0,27.0,33.0,31.0,27.0,31.0,17.0,53.0,4.0,54.0,50.0,27.0,48.0,48.0,49.0,39.0,23.0,38.0,54.0,36.0,null,null,null,36.0,30.0,24.0,28.0,23.0,19.0,64.0,60.0,30.0,null,50.0,43.0,null,22.0,60.0,48.0,null,37.0,35.0,47.0,35.0,22.0,45.0,24.0,49.0,null,71.0,53.0,19.0,38.0,58.0,23.0,45.0,46.0,25.0,25.0,48.0,49.0,null,45.0,35.0,40.0,27.0,null,24.0,55.0,52.0,42.0,null,55.0,16.0,44.0,51.0,42.0,35.0,35.0,38.0,null,35.0,38.0,50.0,49.0,46.0,50.0,32.5,58.0,41.0,null,42.0,45.0,null,39.0,49.0,30.0,35.0,null,42.0,55.0,16.0,51.0,29.0,21.0,30.0,58.0,15.0,30.0,16.0,null,19.0,18.0,24.0,46.0,54.0,36.0,28.0,null,65.0,44.0,33.0,37.0,30.0,55.0,47.0,37.0,31.0,23.0,58.0,19.0,64.0,39.0,null,22.0,65.0,28.5,null,45.5,23.0,29.0,22.0,18.0,17.0,30.0,52.0,47.0,56.0,38.0,null,22.0,null,43.0,31.0,45.0,null,33.0,46.0,36.0,33.0,55.0,54.0,33.0,13.0,18.0,21.0,61.0,48.0,null,24.0,null,35.0,30.0,34.0,40.0,35.0,50.0,39.0,56.0,28.0,56.0,56.0,24.0,null,18.0,24.0,23.0,6.0,45.0,40.0,57.0,null,32.0,62.0,54.0,43.0,52.0,null,62.0,67.0,63.0,61.0,48.0,18.0,52.0,39.0,48.0,null,49.0,17.0,39.0,null,31.0,40.0,61.0,47.0,35.0,64.0,60.0,60.0,54.0,21.0,55.0,31.0,57.0,45.0,50.0,27.0,50.0,21.0,51.0,21.0,null,31.0,null,62.0,36.0,30.0,28.0,30.0,18.0,25.0,34.0,36.0,57.0,18.0,23.0,36.0,28.0,51.0,32.0,19.0,28.0,1.0,4.0,12.0,36.0,34.0,19.0,23.0,26.0,42.0,27.0,24.0,15.0,60.0,40.0,20.0,25.0,36.0,25.0,42.0,42.0,0.8333,26.0,22.0,35.0,null,19.0,44.0,54.0,52.0,37.0,29.0,25.0,45.0,29.0,28.0,29.0,28.0,24.0,8.0,31.0,31.0,22.0,30.0,null,21.0,null,8.0,18.0,48.0,28.0,32.0,17.0,29.0,24.0,25.0,18.0,18.0,34.0,54.0,8.0,42.0,34.0,27.0,30.0,23.0,21.0,18.0,40.0,29.0,18.0,36.0,null,38.0,35.0,38.0,34.0,34.0,16.0,26.0,47.0,21.0,21.0,24.0,24.0,34.0,30.0,52.0,30.0,0.6667,24.0,44.0,6.0,28.0,62.0,30.0,7.0,43.0,45.0,24.0,24.0,49.0,48.0,55.0,24.0,32.0,21.0,18.0,20.0,23.0,36.0,54.0,50.0,44.0,29.0,21.0,42.0,63.0,60.0,33.0,17.0,42.0,24.0,47.0,24.0,22.0,32.0,23.0,34.0,24.0,22.0,null,35.0,45.0,57.0,null,31.0,26.0,30.0,null,1.0,3.0,25.0,22.0,17.0,null,34.0,36.0,24.0,61.0,50.0,42.0,57.0,null,1.0,31.0,24.0,null,30.0,40.0,32.0,30.0,46.0,13.0,41.0,19.0,39.0,48.0,70.0,27.0,54.0,39.0,16.0,62.0,32.5,14.0,2.0,3.0,36.5,26.0,19.0,28.0,20.0,29.0,39.0,22.0,null,23.0,29.0,28.0,null,50.0,19.0,null,41.0,21.0,19.0,43.0,32.0,34.0,30.0,27.0,2.0,8.0,33.0,36.0,34.0,30.0,28.0,23.0,0.8333,3.0,24.0,50.0,19.0,21.0,26.0,25.0,27.0,25.0,18.0,20.0,30.0,59.0,30.0,35.0,40.0,25.0,41.0,25.0,18.5,14.0,50.0,23.0,28.0,27.0,29.0,27.0,40.0,31.0,30.0,23.0,31.0,null,12.0,40.0,32.5,27.0,29.0,2.0,4.0,29.0,0.9167,5.0,36.0,33.0,66.0,null,31.0,null,26.0,24.0,42.0,13.0,16.0,35.0,16.0,25.0,20.0,18.0,30.0,26.0,40.0,0.8333,18.0,26.0,26.0,20.0,24.0,25.0,35.0,18.0,32.0,19.0,4.0,6.0,2.0,17.0,38.0,9.0,11.0,39.0,27.0,26.0,39.0,20.0,26.0,25.0,18.0,24.0,35.0,5.0,9.0,3.0,13.0,5.0,40.0,23.0,38.0,45.0,21.0,23.0,17.0,30.0,23.0,13.0,20.0,32.0,33.0,0.75,0.75,5.0,24.0,18.0,40.0,26.0,20.0,18.0,45.0,27.0,22.0,19.0,26.0,22.0,null,20.0,32.0,21.0,18.0,26.0,6.0,9.0,null,null,null,40.0,32.0,21.0,22.0,20.0,29.0,22.0,22.0,35.0,18.5,21.0,19.0,18.0,21.0,30.0,18.0,38.0,17.0,17.0,21.0,21.0,21.0,null,null,28.0,24.0,16.0,37.0,28.0,24.0,21.0,32.0,29.0,26.0,18.0,20.0,18.0,24.0,36.0,24.0,31.0,31.0,22.0,30.0,70.5,43.0,35.0,27.0,19.0,30.0,9.0,3.0,36.0,59.0,19.0,17.0,44.0,17.0,22.5,45.0,22.0,19.0,30.0,29.0,0.3333,34.0,28.0,27.0,25.0,24.0,22.0,21.0,17.0,null,null,36.5,36.0,30.0,16.0,1.0,0.1667,26.0,33.0,25.0,null,null,22.0,36.0,19.0,17.0,42.0,43.0,null,32.0,19.0,30.0,24.0,23.0,33.0,65.0,24.0,23.0,22.0,18.0,16.0,45.0,null,39.0,17.0,15.0,47.0,5.0,null,40.5,40.5,null,18.0,null,null,null,26.0,null,null,21.0,9.0,null,18.0,16.0,48.0,null,null,25.0,null,null,22.0,16.0,null,9.0,33.0,41.0,31.0,38.0,9.0,1.0,11.0,10.0,16.0,14.0,40.0,43.0,51.0,32.0,null,20.0,37.0,28.0,19.0,24.0,17.0,null,null,28.0,24.0,20.0,23.5,41.0,26.0,21.0,45.0,null,25.0,null,11.0,null,27.0,null,18.0,26.0,23.0,22.0,28.0,28.0,null,2.0,22.0,43.0,28.0,27.0,null,null,42.0,null,30.0,null,27.0,25.0,null,29.0,21.0,null,20.0,48.0,17.0,null,null,34.0,26.0,22.0,33.0,31.0,29.0,4.0,1.0,49.0,33.0,19.0,27.0,null,null,null,null,23.0,32.0,27.0,20.0,21.0,32.0,17.0,21.0,30.0,21.0,33.0,22.0,4.0,39.0,null,18.5,null,null,null,null,34.5,44.0,null,null,null,null,null,null,22.0,26.0,4.0,29.0,26.0,1.0,18.0,36.0,null,25.0,null,37.0,null,null,null,22.0,null,26.0,29.0,29.0,22.0,22.0,null,null,null,null,null,32.0,34.5,null,null,36.0,39.0,24.0,25.0,45.0,36.0,30.0,20.0,null,28.0,null,30.0,26.0,null,20.5,27.0,51.0,23.0,32.0,null,null,null,24.0,22.0,null,null,null,29.0,null,30.5,null,null,35.0,33.0,null,null,null,null,null,null,null,null,null,null,15.0,35.0,null,24.0,19.0,null,null,null,55.5,null,21.0,null,24.0,21.0,28.0,null,null,25.0,6.0,27.0,null,null,null,null,34.0,null,null,null,null,null,null,null,null,24.0,null,null,null,null,18.0,22.0,15.0,1.0,20.0,19.0,33.0,null,null,null,null,12.0,14.0,29.0,28.0,18.0,26.0,21.0,41.0,39.0,21.0,28.5,22.0,61.0,null,null,null,null,null,null,23.0,null,null,null,22.0,null,null,9.0,28.0,42.0,null,31.0,28.0,32.0,20.0,23.0,20.0,20.0,16.0,31.0,null,2.0,6.0,3.0,8.0,29.0,1.0,7.0,2.0,16.0,14.0,41.0,21.0,19.0,null,32.0,0.75,3.0,26.0,null,null,null,21.0,25.0,22.0,25.0,null,null,null,null,24.0,28.0,19.0,null,25.0,18.0,32.0,null,17.0,24.0,null,null,null,null,38.0,21.0,10.0,4.0,7.0,2.0,8.0,39.0,22.0,35.0,null,null,null,50.0,47.0,null,null,2.0,18.0,41.0,null,50.0,16.0,null,null,null,25.0,null,null,null,38.5,null,14.5,null,null,null,null,null,null,null,null,null,24.0,21.0,39.0,null,null,null,1.0,24.0,4.0,25.0,20.0,24.5,null,null,null,29.0,null,null,null,null,22.0,null,40.0,21.0,18.0,4.0,10.0,9.0,2.0,40.0,45.0,null,null,null,null,null,19.0,30.0,null,32.0,null,33.0,23.0,21.0,60.5,19.0,22.0,31.0,27.0,2.0,29.0,16.0,44.0,25.0,74.0,14.0,24.0,25.0,34.0,0.4167,null,null,null,16.0,null,null,null,32.0,null,null,30.5,44.0,null,25.0,null,7.0,9.0,29.0,36.0,18.0,63.0,null,11.5,40.5,10.0,36.0,30.0,null,33.0,28.0,28.0,47.0,18.0,31.0,16.0,31.0,22.0,20.0,14.0,22.0,22.0,null,null,null,32.5,38.0,51.0,18.0,21.0,47.0,null,null,null,28.5,21.0,27.0,null,36.0,27.0,15.0,45.5,null,null,14.5,null,26.5,27.0,29.0,null],\"xaxis\":\"x\",\"yaxis\":\"y\",\"type\":\"histogram\"}],                        {\"template\":{\"data\":{\"bar\":[{\"error_x\":{\"color\":\"#2a3f5f\"},\"error_y\":{\"color\":\"#2a3f5f\"},\"marker\":{\"line\":{\"color\":\"#E5ECF6\",\"width\":0.5},\"pattern\":{\"fillmode\":\"overlay\",\"size\":10,\"solidity\":0.2}},\"type\":\"bar\"}],\"barpolar\":[{\"marker\":{\"line\":{\"color\":\"#E5ECF6\",\"width\":0.5},\"pattern\":{\"fillmode\":\"overlay\",\"size\":10,\"solidity\":0.2}},\"type\":\"barpolar\"}],\"carpet\":[{\"aaxis\":{\"endlinecolor\":\"#2a3f5f\",\"gridcolor\":\"white\",\"linecolor\":\"white\",\"minorgridcolor\":\"white\",\"startlinecolor\":\"#2a3f5f\"},\"baxis\":{\"endlinecolor\":\"#2a3f5f\",\"gridcolor\":\"white\",\"linecolor\":\"white\",\"minorgridcolor\":\"white\",\"startlinecolor\":\"#2a3f5f\"},\"type\":\"carpet\"}],\"choropleth\":[{\"colorbar\":{\"outlinewidth\":0,\"ticks\":\"\"},\"type\":\"choropleth\"}],\"contour\":[{\"colorbar\":{\"outlinewidth\":0,\"ticks\":\"\"},\"colorscale\":[[0.0,\"#0d0887\"],[0.1111111111111111,\"#46039f\"],[0.2222222222222222,\"#7201a8\"],[0.3333333333333333,\"#9c179e\"],[0.4444444444444444,\"#bd3786\"],[0.5555555555555556,\"#d8576b\"],[0.6666666666666666,\"#ed7953\"],[0.7777777777777778,\"#fb9f3a\"],[0.8888888888888888,\"#fdca26\"],[1.0,\"#f0f921\"]],\"type\":\"contour\"}],\"contourcarpet\":[{\"colorbar\":{\"outlinewidth\":0,\"ticks\":\"\"},\"type\":\"contourcarpet\"}],\"heatmap\":[{\"colorbar\":{\"outlinewidth\":0,\"ticks\":\"\"},\"colorscale\":[[0.0,\"#0d0887\"],[0.1111111111111111,\"#46039f\"],[0.2222222222222222,\"#7201a8\"],[0.3333333333333333,\"#9c179e\"],[0.4444444444444444,\"#bd3786\"],[0.5555555555555556,\"#d8576b\"],[0.6666666666666666,\"#ed7953\"],[0.7777777777777778,\"#fb9f3a\"],[0.8888888888888888,\"#fdca26\"],[1.0,\"#f0f921\"]],\"type\":\"heatmap\"}],\"heatmapgl\":[{\"colorbar\":{\"outlinewidth\":0,\"ticks\":\"\"},\"colorscale\":[[0.0,\"#0d0887\"],[0.1111111111111111,\"#46039f\"],[0.2222222222222222,\"#7201a8\"],[0.3333333333333333,\"#9c179e\"],[0.4444444444444444,\"#bd3786\"],[0.5555555555555556,\"#d8576b\"],[0.6666666666666666,\"#ed7953\"],[0.7777777777777778,\"#fb9f3a\"],[0.8888888888888888,\"#fdca26\"],[1.0,\"#f0f921\"]],\"type\":\"heatmapgl\"}],\"histogram\":[{\"marker\":{\"pattern\":{\"fillmode\":\"overlay\",\"size\":10,\"solidity\":0.2}},\"type\":\"histogram\"}],\"histogram2d\":[{\"colorbar\":{\"outlinewidth\":0,\"ticks\":\"\"},\"colorscale\":[[0.0,\"#0d0887\"],[0.1111111111111111,\"#46039f\"],[0.2222222222222222,\"#7201a8\"],[0.3333333333333333,\"#9c179e\"],[0.4444444444444444,\"#bd3786\"],[0.5555555555555556,\"#d8576b\"],[0.6666666666666666,\"#ed7953\"],[0.7777777777777778,\"#fb9f3a\"],[0.8888888888888888,\"#fdca26\"],[1.0,\"#f0f921\"]],\"type\":\"histogram2d\"}],\"histogram2dcontour\":[{\"colorbar\":{\"outlinewidth\":0,\"ticks\":\"\"},\"colorscale\":[[0.0,\"#0d0887\"],[0.1111111111111111,\"#46039f\"],[0.2222222222222222,\"#7201a8\"],[0.3333333333333333,\"#9c179e\"],[0.4444444444444444,\"#bd3786\"],[0.5555555555555556,\"#d8576b\"],[0.6666666666666666,\"#ed7953\"],[0.7777777777777778,\"#fb9f3a\"],[0.8888888888888888,\"#fdca26\"],[1.0,\"#f0f921\"]],\"type\":\"histogram2dcontour\"}],\"mesh3d\":[{\"colorbar\":{\"outlinewidth\":0,\"ticks\":\"\"},\"type\":\"mesh3d\"}],\"parcoords\":[{\"line\":{\"colorbar\":{\"outlinewidth\":0,\"ticks\":\"\"}},\"type\":\"parcoords\"}],\"pie\":[{\"automargin\":true,\"type\":\"pie\"}],\"scatter\":[{\"marker\":{\"colorbar\":{\"outlinewidth\":0,\"ticks\":\"\"}},\"type\":\"scatter\"}],\"scatter3d\":[{\"line\":{\"colorbar\":{\"outlinewidth\":0,\"ticks\":\"\"}},\"marker\":{\"colorbar\":{\"outlinewidth\":0,\"ticks\":\"\"}},\"type\":\"scatter3d\"}],\"scattercarpet\":[{\"marker\":{\"colorbar\":{\"outlinewidth\":0,\"ticks\":\"\"}},\"type\":\"scattercarpet\"}],\"scattergeo\":[{\"marker\":{\"colorbar\":{\"outlinewidth\":0,\"ticks\":\"\"}},\"type\":\"scattergeo\"}],\"scattergl\":[{\"marker\":{\"colorbar\":{\"outlinewidth\":0,\"ticks\":\"\"}},\"type\":\"scattergl\"}],\"scattermapbox\":[{\"marker\":{\"colorbar\":{\"outlinewidth\":0,\"ticks\":\"\"}},\"type\":\"scattermapbox\"}],\"scatterpolar\":[{\"marker\":{\"colorbar\":{\"outlinewidth\":0,\"ticks\":\"\"}},\"type\":\"scatterpolar\"}],\"scatterpolargl\":[{\"marker\":{\"colorbar\":{\"outlinewidth\":0,\"ticks\":\"\"}},\"type\":\"scatterpolargl\"}],\"scatterternary\":[{\"marker\":{\"colorbar\":{\"outlinewidth\":0,\"ticks\":\"\"}},\"type\":\"scatterternary\"}],\"surface\":[{\"colorbar\":{\"outlinewidth\":0,\"ticks\":\"\"},\"colorscale\":[[0.0,\"#0d0887\"],[0.1111111111111111,\"#46039f\"],[0.2222222222222222,\"#7201a8\"],[0.3333333333333333,\"#9c179e\"],[0.4444444444444444,\"#bd3786\"],[0.5555555555555556,\"#d8576b\"],[0.6666666666666666,\"#ed7953\"],[0.7777777777777778,\"#fb9f3a\"],[0.8888888888888888,\"#fdca26\"],[1.0,\"#f0f921\"]],\"type\":\"surface\"}],\"table\":[{\"cells\":{\"fill\":{\"color\":\"#EBF0F8\"},\"line\":{\"color\":\"white\"}},\"header\":{\"fill\":{\"color\":\"#C8D4E3\"},\"line\":{\"color\":\"white\"}},\"type\":\"table\"}]},\"layout\":{\"annotationdefaults\":{\"arrowcolor\":\"#2a3f5f\",\"arrowhead\":0,\"arrowwidth\":1},\"autotypenumbers\":\"strict\",\"coloraxis\":{\"colorbar\":{\"outlinewidth\":0,\"ticks\":\"\"}},\"colorscale\":{\"diverging\":[[0,\"#8e0152\"],[0.1,\"#c51b7d\"],[0.2,\"#de77ae\"],[0.3,\"#f1b6da\"],[0.4,\"#fde0ef\"],[0.5,\"#f7f7f7\"],[0.6,\"#e6f5d0\"],[0.7,\"#b8e186\"],[0.8,\"#7fbc41\"],[0.9,\"#4d9221\"],[1,\"#276419\"]],\"sequential\":[[0.0,\"#0d0887\"],[0.1111111111111111,\"#46039f\"],[0.2222222222222222,\"#7201a8\"],[0.3333333333333333,\"#9c179e\"],[0.4444444444444444,\"#bd3786\"],[0.5555555555555556,\"#d8576b\"],[0.6666666666666666,\"#ed7953\"],[0.7777777777777778,\"#fb9f3a\"],[0.8888888888888888,\"#fdca26\"],[1.0,\"#f0f921\"]],\"sequentialminus\":[[0.0,\"#0d0887\"],[0.1111111111111111,\"#46039f\"],[0.2222222222222222,\"#7201a8\"],[0.3333333333333333,\"#9c179e\"],[0.4444444444444444,\"#bd3786\"],[0.5555555555555556,\"#d8576b\"],[0.6666666666666666,\"#ed7953\"],[0.7777777777777778,\"#fb9f3a\"],[0.8888888888888888,\"#fdca26\"],[1.0,\"#f0f921\"]]},\"colorway\":[\"#636efa\",\"#EF553B\",\"#00cc96\",\"#ab63fa\",\"#FFA15A\",\"#19d3f3\",\"#FF6692\",\"#B6E880\",\"#FF97FF\",\"#FECB52\"],\"font\":{\"color\":\"#2a3f5f\"},\"geo\":{\"bgcolor\":\"white\",\"lakecolor\":\"white\",\"landcolor\":\"#E5ECF6\",\"showlakes\":true,\"showland\":true,\"subunitcolor\":\"white\"},\"hoverlabel\":{\"align\":\"left\"},\"hovermode\":\"closest\",\"mapbox\":{\"style\":\"light\"},\"paper_bgcolor\":\"white\",\"plot_bgcolor\":\"#E5ECF6\",\"polar\":{\"angularaxis\":{\"gridcolor\":\"white\",\"linecolor\":\"white\",\"ticks\":\"\"},\"bgcolor\":\"#E5ECF6\",\"radialaxis\":{\"gridcolor\":\"white\",\"linecolor\":\"white\",\"ticks\":\"\"}},\"scene\":{\"xaxis\":{\"backgroundcolor\":\"#E5ECF6\",\"gridcolor\":\"white\",\"gridwidth\":2,\"linecolor\":\"white\",\"showbackground\":true,\"ticks\":\"\",\"zerolinecolor\":\"white\"},\"yaxis\":{\"backgroundcolor\":\"#E5ECF6\",\"gridcolor\":\"white\",\"gridwidth\":2,\"linecolor\":\"white\",\"showbackground\":true,\"ticks\":\"\",\"zerolinecolor\":\"white\"},\"zaxis\":{\"backgroundcolor\":\"#E5ECF6\",\"gridcolor\":\"white\",\"gridwidth\":2,\"linecolor\":\"white\",\"showbackground\":true,\"ticks\":\"\",\"zerolinecolor\":\"white\"}},\"shapedefaults\":{\"line\":{\"color\":\"#2a3f5f\"}},\"ternary\":{\"aaxis\":{\"gridcolor\":\"white\",\"linecolor\":\"white\",\"ticks\":\"\"},\"baxis\":{\"gridcolor\":\"white\",\"linecolor\":\"white\",\"ticks\":\"\"},\"bgcolor\":\"#E5ECF6\",\"caxis\":{\"gridcolor\":\"white\",\"linecolor\":\"white\",\"ticks\":\"\"}},\"title\":{\"x\":0.05},\"xaxis\":{\"automargin\":true,\"gridcolor\":\"white\",\"linecolor\":\"white\",\"ticks\":\"\",\"title\":{\"standoff\":15},\"zerolinecolor\":\"white\",\"zerolinewidth\":2},\"yaxis\":{\"automargin\":true,\"gridcolor\":\"white\",\"linecolor\":\"white\",\"ticks\":\"\",\"title\":{\"standoff\":15},\"zerolinecolor\":\"white\",\"zerolinewidth\":2}}},\"xaxis\":{\"anchor\":\"y\",\"domain\":[0.0,1.0],\"title\":{\"text\":\"age\"}},\"yaxis\":{\"anchor\":\"x\",\"domain\":[0.0,1.0],\"title\":{\"text\":\"count\"}},\"legend\":{\"tracegroupgap\":0},\"margin\":{\"t\":60},\"barmode\":\"relative\"},                        {\"responsive\": true}                    ).then(function(){\n",
              "                            \n",
              "var gd = document.getElementById('9a0b2eb9-21ae-4520-9546-e921bbe3add9');\n",
              "var x = new MutationObserver(function (mutations, observer) {{\n",
              "        var display = window.getComputedStyle(gd).display;\n",
              "        if (!display || display === 'none') {{\n",
              "            console.log([gd, 'removed!']);\n",
              "            Plotly.purge(gd);\n",
              "            observer.disconnect();\n",
              "        }}\n",
              "}});\n",
              "\n",
              "// Listen for the removal of the full notebook cells\n",
              "var notebookContainer = gd.closest('#notebook-container');\n",
              "if (notebookContainer) {{\n",
              "    x.observe(notebookContainer, {childList: true});\n",
              "}}\n",
              "\n",
              "// Listen for the clearing of the current output cell\n",
              "var outputEl = gd.closest('.output');\n",
              "if (outputEl) {{\n",
              "    x.observe(outputEl, {childList: true});\n",
              "}}\n",
              "\n",
              "                        })                };                            </script>        </div>\n",
              "</body>\n",
              "</html>"
            ]
          },
          "metadata": {}
        }
      ]
    },
    {
      "cell_type": "code",
      "metadata": {
        "id": "B4NG6Qhz34wi",
        "colab": {
          "base_uri": "https://localhost:8080/",
          "height": 504
        },
        "outputId": "0bd60919-5778-4e39-c712-2211e348b47a"
      },
      "source": [
        "grid = sns.FacetGrid(titanic, col = 'survived', row = 'pclass', height = 3, aspect = 2)\n",
        "grid.map(plt.hist, 'age', alpha = .5, bins = 20)"
      ],
      "execution_count": 11,
      "outputs": [
        {
          "output_type": "execute_result",
          "data": {
            "text/plain": [
              "<seaborn.axisgrid.FacetGrid at 0x7f71504fd9d0>"
            ]
          },
          "metadata": {},
          "execution_count": 11
        },
        {
          "output_type": "display_data",
          "data": {
            "text/plain": [
              "<Figure size 864x648 with 6 Axes>"
            ],
            "image/png": "[encoded data removed]"
          },
          "metadata": {
            "needs_background": "light"
          }
        }
      ]
    },
    {
      "cell_type": "markdown",
      "source": [
        "나이를 5단계로 정리하기"
      ],
      "metadata": {
        "id": "nW0-hdyWHxF1"
      }
    },
    {
      "cell_type": "code",
      "metadata": {
        "id": "NtyzmpyI4yp4",
        "colab": {
          "base_uri": "https://localhost:8080/",
          "height": 574
        },
        "outputId": "122a176a-cc42-491b-a891-3e6d1ad3e024"
      },
      "source": [
        "#age_cat column 새로 추가 cut 사용\n",
        "#bins 구간, cut함수가 0을 포함 안시켜서 include_lowest\n",
        "titanic['age_cat'] = pd.cut(titanic['age'], bins = [0, 7, 15, 30, 60, 100],\n",
        "                            include_lowest = True,\n",
        "                            labels = ['baby', 'teen', 'young', 'adult', 'old'])\n",
        "titanic.head()"
      ],
      "execution_count": 12,
      "outputs": [
        {
          "output_type": "execute_result",
          "data": {
            "text/plain": [
              "   pclass  survived                                             name     sex  \\\n",
              "0     1.0       1.0                    Allen, Miss. Elisabeth Walton  female   \n",
              "1     1.0       1.0                   Allison, Master. Hudson Trevor    male   \n",
              "2     1.0       0.0                     Allison, Miss. Helen Loraine  female   \n",
              "3     1.0       0.0             Allison, Mr. Hudson Joshua Creighton    male   \n",
              "4     1.0       0.0  Allison, Mrs. Hudson J C (Bessie Waldo Daniels)  female   \n",
              "\n",
              "       age  sibsp  parch  ticket      fare    cabin embarked boat   body  \\\n",
              "0  29.0000    0.0    0.0   24160  211.3375       B5        S    2    NaN   \n",
              "1   0.9167    1.0    2.0  113781  151.5500  C22 C26        S   11    NaN   \n",
              "2   2.0000    1.0    2.0  113781  151.5500  C22 C26        S  NaN    NaN   \n",
              "3  30.0000    1.0    2.0  113781  151.5500  C22 C26        S  NaN  135.0   \n",
              "4  25.0000    1.0    2.0  113781  151.5500  C22 C26        S  NaN    NaN   \n",
              "\n",
              "                         home.dest age_cat  \n",
              "0                     St Louis, MO   young  \n",
              "1  Montreal, PQ / Chesterville, ON    baby  \n",
              "2  Montreal, PQ / Chesterville, ON    baby  \n",
              "3  Montreal, PQ / Chesterville, ON   young  \n",
              "4  Montreal, PQ / Chesterville, ON   young  "
            ],
            "text/html": [
              "\n",
              "  <div id=\"df-1be5a22c-c9e0-488d-a19c-30f7ee8bb718\">\n",
              "    <div class=\"colab-df-container\">\n",
              "      <div>\n",
              "<style scoped>\n",
              "    .dataframe tbody tr th:only-of-type {\n",
              "        vertical-align: middle;\n",
              "    }\n",
              "\n",
              "    .dataframe tbody tr th {\n",
              "        vertical-align: top;\n",
              "    }\n",
              "\n",
              "    .dataframe thead th {\n",
              "        text-align: right;\n",
              "    }\n",
              "</style>\n",
              "<table border=\"1\" class=\"dataframe\">\n",
              "  <thead>\n",
              "    <tr style=\"text-align: right;\">\n",
              "      <th></th>\n",
              "      <th>pclass</th>\n",
              "      <th>survived</th>\n",
              "      <th>name</th>\n",
              "      <th>sex</th>\n",
              "      <th>age</th>\n",
              "      <th>sibsp</th>\n",
              "      <th>parch</th>\n",
              "      <th>ticket</th>\n",
              "      <th>fare</th>\n",
              "      <th>cabin</th>\n",
              "      <th>embarked</th>\n",
              "      <th>boat</th>\n",
              "      <th>body</th>\n",
              "      <th>home.dest</th>\n",
              "      <th>age_cat</th>\n",
              "    </tr>\n",
              "  </thead>\n",
              "  <tbody>\n",
              "    <tr>\n",
              "      <th>0</th>\n",
              "      <td>1.0</td>\n",
              "      <td>1.0</td>\n",
              "      <td>Allen, Miss. Elisabeth Walton</td>\n",
              "      <td>female</td>\n",
              "      <td>29.0000</td>\n",
              "      <td>0.0</td>\n",
              "      <td>0.0</td>\n",
              "      <td>24160</td>\n",
              "      <td>211.3375</td>\n",
              "      <td>B5</td>\n",
              "      <td>S</td>\n",
              "      <td>2</td>\n",
              "      <td>NaN</td>\n",
              "      <td>St Louis, MO</td>\n",
              "      <td>young</td>\n",
              "    </tr>\n",
              "    <tr>\n",
              "      <th>1</th>\n",
              "      <td>1.0</td>\n",
              "      <td>1.0</td>\n",
              "      <td>Allison, Master. Hudson Trevor</td>\n",
              "      <td>male</td>\n",
              "      <td>0.9167</td>\n",
              "      <td>1.0</td>\n",
              "      <td>2.0</td>\n",
              "      <td>113781</td>\n",
              "      <td>151.5500</td>\n",
              "      <td>C22 C26</td>\n",
              "      <td>S</td>\n",
              "      <td>11</td>\n",
              "      <td>NaN</td>\n",
              "      <td>Montreal, PQ / Chesterville, ON</td>\n",
              "      <td>baby</td>\n",
              "    </tr>\n",
              "    <tr>\n",
              "      <th>2</th>\n",
              "      <td>1.0</td>\n",
              "      <td>0.0</td>\n",
              "      <td>Allison, Miss. Helen Loraine</td>\n",
              "      <td>female</td>\n",
              "      <td>2.0000</td>\n",
              "      <td>1.0</td>\n",
              "      <td>2.0</td>\n",
              "      <td>113781</td>\n",
              "      <td>151.5500</td>\n",
              "      <td>C22 C26</td>\n",
              "      <td>S</td>\n",
              "      <td>NaN</td>\n",
              "      <td>NaN</td>\n",
              "      <td>Montreal, PQ / Chesterville, ON</td>\n",
              "      <td>baby</td>\n",
              "    </tr>\n",
              "    <tr>\n",
              "      <th>3</th>\n",
              "      <td>1.0</td>\n",
              "      <td>0.0</td>\n",
              "      <td>Allison, Mr. Hudson Joshua Creighton</td>\n",
              "      <td>male</td>\n",
              "      <td>30.0000</td>\n",
              "      <td>1.0</td>\n",
              "      <td>2.0</td>\n",
              "      <td>113781</td>\n",
              "      <td>151.5500</td>\n",
              "      <td>C22 C26</td>\n",
              "      <td>S</td>\n",
              "      <td>NaN</td>\n",
              "      <td>135.0</td>\n",
              "      <td>Montreal, PQ / Chesterville, ON</td>\n",
              "      <td>young</td>\n",
              "    </tr>\n",
              "    <tr>\n",
              "      <th>4</th>\n",
              "      <td>1.0</td>\n",
              "      <td>0.0</td>\n",
              "      <td>Allison, Mrs. Hudson J C (Bessie Waldo Daniels)</td>\n",
              "      <td>female</td>\n",
              "      <td>25.0000</td>\n",
              "      <td>1.0</td>\n",
              "      <td>2.0</td>\n",
              "      <td>113781</td>\n",
              "      <td>151.5500</td>\n",
              "      <td>C22 C26</td>\n",
              "      <td>S</td>\n",
              "      <td>NaN</td>\n",
              "      <td>NaN</td>\n",
              "      <td>Montreal, PQ / Chesterville, ON</td>\n",
              "      <td>young</td>\n",
              "    </tr>\n",
              "  </tbody>\n",
              "</table>\n",
              "</div>\n",
              "      <button class=\"colab-df-convert\" onclick=\"convertToInteractive('df-1be5a22c-c9e0-488d-a19c-30f7ee8bb718')\"\n",
              "              title=\"Convert this dataframe to an interactive table.\"\n",
              "              style=\"display:none;\">\n",
              "        \n",
              "  <svg xmlns=\"http://www.w3.org/2000/svg\" height=\"24px\"viewBox=\"0 0 24 24\"\n",
              "       width=\"24px\">\n",
              "    <path d=\"M0 0h24v24H0V0z\" fill=\"none\"/>\n",
              "    <path d=\"M18.56 5.44l.94 2.06.94-2.06 2.06-.94-2.06-.94-.94-2.06-.94 2.06-2.06.94zm-11 1L8.5 8.5l.94-2.06 2.06-.94-2.06-.94L8.5 2.5l-.94 2.06-2.06.94zm10 10l.94 2.06.94-2.06 2.06-.94-2.06-.94-.94-2.06-.94 2.06-2.06.94z\"/><path d=\"M17.41 7.96l-1.37-1.37c-.4-.4-.92-.59-1.43-.59-.52 0-1.04.2-1.43.59L10.3 9.45l-7.72 7.72c-.78.78-.78 2.05 0 2.83L4 21.41c.39.39.9.59 1.41.59.51 0 1.02-.2 1.41-.59l7.78-7.78 2.81-2.81c.8-.78.8-2.07 0-2.86zM5.41 20L4 18.59l7.72-7.72 1.47 1.35L5.41 20z\"/>\n",
              "  </svg>\n",
              "      </button>\n",
              "      \n",
              "  <style>\n",
              "    .colab-df-container {\n",
              "      display:flex;\n",
              "      flex-wrap:wrap;\n",
              "      gap: 12px;\n",
              "    }\n",
              "\n",
              "    .colab-df-convert {\n",
              "      background-color: #E8F0FE;\n",
              "      border: none;\n",
              "      border-radius: 50%;\n",
              "      cursor: pointer;\n",
              "      display: none;\n",
              "      fill: #1967D2;\n",
              "      height: 32px;\n",
              "      padding: 0 0 0 0;\n",
              "      width: 32px;\n",
              "    }\n",
              "\n",
              "    .colab-df-convert:hover {\n",
              "      background-color: #E2EBFA;\n",
              "      box-shadow: 0px 1px 2px rgba(60, 64, 67, 0.3), 0px 1px 3px 1px rgba(60, 64, 67, 0.15);\n",
              "      fill: #174EA6;\n",
              "    }\n",
              "\n",
              "    [theme=dark] .colab-df-convert {\n",
              "      background-color: #3B4455;\n",
              "      fill: #D2E3FC;\n",
              "    }\n",
              "\n",
              "    [theme=dark] .colab-df-convert:hover {\n",
              "      background-color: #434B5C;\n",
              "      box-shadow: 0px 1px 3px 1px rgba(0, 0, 0, 0.15);\n",
              "      filter: drop-shadow(0px 1px 2px rgba(0, 0, 0, 0.3));\n",
              "      fill: #FFFFFF;\n",
              "    }\n",
              "  </style>\n",
              "\n",
              "      <script>\n",
              "        const buttonEl =\n",
              "          document.querySelector('#df-1be5a22c-c9e0-488d-a19c-30f7ee8bb718 button.colab-df-convert');\n",
              "        buttonEl.style.display =\n",
              "          google.colab.kernel.accessAllowed ? 'block' : 'none';\n",
              "\n",
              "        async function convertToInteractive(key) {\n",
              "          const element = document.querySelector('#df-1be5a22c-c9e0-488d-a19c-30f7ee8bb718');\n",
              "          const dataTable =\n",
              "            await google.colab.kernel.invokeFunction('convertToInteractive',\n",
              "                                                     [key], {});\n",
              "          if (!dataTable) return;\n",
              "\n",
              "          const docLinkHtml = 'Like what you see? Visit the ' +\n",
              "            '<a target=\"_blank\" href=https://colab.research.google.com/notebooks/data_table.ipynb>data table notebook</a>'\n",
              "            + ' to learn more about interactive tables.';\n",
              "          element.innerHTML = '';\n",
              "          dataTable['output_type'] = 'display_data';\n",
              "          await google.colab.output.renderOutput(dataTable, element);\n",
              "          const docLink = document.createElement('div');\n",
              "          docLink.innerHTML = docLinkHtml;\n",
              "          element.appendChild(docLink);\n",
              "        }\n",
              "      </script>\n",
              "    </div>\n",
              "  </div>\n",
              "  "
            ]
          },
          "metadata": {},
          "execution_count": 12
        }
      ]
    },
    {
      "cell_type": "markdown",
      "source": [
        "선실등급, 나이, 성별별 생존자 수를 한번에 파악하기 "
      ],
      "metadata": {
        "id": "rne9WZ4pH1QQ"
      }
    },
    {
      "cell_type": "code",
      "metadata": {
        "id": "kFEVbidO63LT",
        "colab": {
          "base_uri": "https://localhost:8080/",
          "height": 474
        },
        "outputId": "33f74218-9b6e-41ba-e611-5ba3dd09845d"
      },
      "source": [
        "plt.figure(figsize = (12, 4))\n",
        "plt.subplot(131)\n",
        "sns.barplot('pclass', 'survived', data = titanic)\n",
        "plt.subplot(132)\n",
        "sns.barplot('age_cat', 'survived', data = titanic)\n",
        "plt.subplot(133)\n",
        "sns.barplot('sex', 'survived', data = titanic)\n",
        "plt.subplots_adjust(top =1, bottom = 0.1, left = 0.1, right = 1,\n",
        "                    hspace = 0.5, wspace = 0.5)"
      ],
      "execution_count": 13,
      "outputs": [
        {
          "output_type": "stream",
          "name": "stderr",
          "text": [
            "/usr/local/lib/python3.7/dist-packages/seaborn/_decorators.py:43: FutureWarning:\n",
            "\n",
            "Pass the following variables as keyword args: x, y. From version 0.12, the only valid positional argument will be `data`, and passing other arguments without an explicit keyword will result in an error or misinterpretation.\n",
            "\n",
            "/usr/local/lib/python3.7/dist-packages/seaborn/_decorators.py:43: FutureWarning:\n",
            "\n",
            "Pass the following variables as keyword args: x, y. From version 0.12, the only valid positional argument will be `data`, and passing other arguments without an explicit keyword will result in an error or misinterpretation.\n",
            "\n",
            "/usr/local/lib/python3.7/dist-packages/seaborn/_decorators.py:43: FutureWarning:\n",
            "\n",
            "Pass the following variables as keyword args: x, y. From version 0.12, the only valid positional argument will be `data`, and passing other arguments without an explicit keyword will result in an error or misinterpretation.\n",
            "\n"
          ]
        },
        {
          "output_type": "display_data",
          "data": {
            "text/plain": [
              "<Figure size 864x288 with 3 Axes>"
            ],
            "image/png": "[encoded data removed]"
          },
          "metadata": {
            "needs_background": "light"
          }
        }
      ]
    },
    {
      "cell_type": "code",
      "metadata": {
        "id": "Xz0k4Tfl8kTx",
        "colab": {
          "base_uri": "https://localhost:8080/",
          "height": 420
        },
        "outputId": "5e9fc24f-76cb-4d69-eddb-fca8675eb47e"
      },
      "source": [
        "fig, axes = plt.subplots(nrows = 1, ncols = 2, figsize = (14, 6))\n",
        "\n",
        "women = titanic[titanic['sex'] =='female']\n",
        "men = titanic[titanic['sex'] == 'male']\n",
        "\n",
        "ax = sns.distplot(women[women['survived'] == 1]['age'], bins = 20,\n",
        "                  label = 'survived', ax = axes[0], kde = False)\n",
        "ax = sns.distplot(women[women['survived'] == 0]['age'], bins = 20,\n",
        "                  label = 'not_survived', ax = axes[0], kde = False)\n",
        "ax.legend(); ax.set_title('Female')\n",
        "\n",
        "ax = sns.distplot(men[men['survived'] == 1]['age'], bins = 20,\n",
        "                  label = 'survived', ax = axes[1], kde = False)\n",
        "ax = sns.distplot(men[men['survived'] == 0]['age'], bins = 20,\n",
        "                  label = 'not_survived', ax = axes[1], kde = False)\n",
        "ax.legend(); ax.set_title('Male')"
      ],
      "execution_count": 14,
      "outputs": [
        {
          "output_type": "stream",
          "name": "stderr",
          "text": [
            "/usr/local/lib/python3.7/dist-packages/seaborn/distributions.py:2619: FutureWarning:\n",
            "\n",
            "`distplot` is a deprecated function and will be removed in a future version. Please adapt your code to use either `displot` (a figure-level function with similar flexibility) or `histplot` (an axes-level function for histograms).\n",
            "\n"
          ]
        },
        {
          "output_type": "execute_result",
          "data": {
            "text/plain": [
              "Text(0.5, 1.0, 'Male')"
            ]
          },
          "metadata": {},
          "execution_count": 14
        },
        {
          "output_type": "display_data",
          "data": {
            "text/plain": [
              "<Figure size 1008x432 with 2 Axes>"
            ],
            "image/png": "[encoded data removed]"
          },
          "metadata": {
            "needs_background": "light"
          }
        }
      ]
    },
    {
      "cell_type": "code",
      "metadata": {
        "id": "F5ylsBvDM0wQ",
        "colab": {
          "base_uri": "https://localhost:8080/"
        },
        "outputId": "835dd25d-b8bc-4896-e108-7736646ade20"
      },
      "source": [
        "titanic.info()"
      ],
      "execution_count": 15,
      "outputs": [
        {
          "output_type": "stream",
          "name": "stdout",
          "text": [
            "<class 'pandas.core.frame.DataFrame'>\n",
            "RangeIndex: 1310 entries, 0 to 1309\n",
            "Data columns (total 15 columns):\n",
            " #   Column     Non-Null Count  Dtype   \n",
            "---  ------     --------------  -----   \n",
            " 0   pclass     1309 non-null   float64 \n",
            " 1   survived   1309 non-null   float64 \n",
            " 2   name       1309 non-null   object  \n",
            " 3   sex        1309 non-null   object  \n",
            " 4   age        1046 non-null   float64 \n",
            " 5   sibsp      1309 non-null   float64 \n",
            " 6   parch      1309 non-null   float64 \n",
            " 7   ticket     1309 non-null   object  \n",
            " 8   fare       1308 non-null   float64 \n",
            " 9   cabin      295 non-null    object  \n",
            " 10  embarked   1307 non-null   object  \n",
            " 11  boat       486 non-null    object  \n",
            " 12  body       121 non-null    float64 \n",
            " 13  home.dest  745 non-null    object  \n",
            " 14  age_cat    1046 non-null   category\n",
            "dtypes: category(1), float64(7), object(7)\n",
            "memory usage: 144.9+ KB\n"
          ]
        }
      ]
    },
    {
      "cell_type": "code",
      "metadata": {
        "id": "UjhDZ8qlSE7D",
        "colab": {
          "base_uri": "https://localhost:8080/"
        },
        "outputId": "d6fd5f49-2121-4138-b6b4-be4f612730b6"
      },
      "source": [
        "titanic['sex'].unique()"
      ],
      "execution_count": 16,
      "outputs": [
        {
          "output_type": "execute_result",
          "data": {
            "text/plain": [
              "array(['female', 'male', nan], dtype=object)"
            ]
          },
          "metadata": {},
          "execution_count": 16
        }
      ]
    },
    {
      "cell_type": "markdown",
      "source": [
        "머신러닝을 위해 해당컬럼을 숫자로 변경 "
      ],
      "metadata": {
        "id": "kM1ox5_JIFbm"
      }
    },
    {
      "cell_type": "code",
      "metadata": {
        "id": "-4zHDiPKSJv7",
        "colab": {
          "base_uri": "https://localhost:8080/",
          "height": 574
        },
        "outputId": "d15f6bab-9ae3-40f3-e5fa-f4ab49b35714"
      },
      "source": [
        "from sklearn.preprocessing import LabelEncoder\n",
        "\n",
        "le = LabelEncoder()\n",
        "le.fit(titanic['sex'])\n",
        "titanic['gender'] = le.transform(titanic['sex'])\n",
        "titanic.head()"
      ],
      "execution_count": 17,
      "outputs": [
        {
          "output_type": "execute_result",
          "data": {
            "text/plain": [
              "   pclass  survived                                             name     sex  \\\n",
              "0     1.0       1.0                    Allen, Miss. Elisabeth Walton  female   \n",
              "1     1.0       1.0                   Allison, Master. Hudson Trevor    male   \n",
              "2     1.0       0.0                     Allison, Miss. Helen Loraine  female   \n",
              "3     1.0       0.0             Allison, Mr. Hudson Joshua Creighton    male   \n",
              "4     1.0       0.0  Allison, Mrs. Hudson J C (Bessie Waldo Daniels)  female   \n",
              "\n",
              "       age  sibsp  parch  ticket      fare    cabin embarked boat   body  \\\n",
              "0  29.0000    0.0    0.0   24160  211.3375       B5        S    2    NaN   \n",
              "1   0.9167    1.0    2.0  113781  151.5500  C22 C26        S   11    NaN   \n",
              "2   2.0000    1.0    2.0  113781  151.5500  C22 C26        S  NaN    NaN   \n",
              "3  30.0000    1.0    2.0  113781  151.5500  C22 C26        S  NaN  135.0   \n",
              "4  25.0000    1.0    2.0  113781  151.5500  C22 C26        S  NaN    NaN   \n",
              "\n",
              "                         home.dest age_cat  gender  \n",
              "0                     St Louis, MO   young       0  \n",
              "1  Montreal, PQ / Chesterville, ON    baby       1  \n",
              "2  Montreal, PQ / Chesterville, ON    baby       0  \n",
              "3  Montreal, PQ / Chesterville, ON   young       1  \n",
              "4  Montreal, PQ / Chesterville, ON   young       0  "
            ],
            "text/html": [
              "\n",
              "  <div id=\"df-49dbe830-6896-49ec-9969-842ca6011f31\">\n",
              "    <div class=\"colab-df-container\">\n",
              "      <div>\n",
              "<style scoped>\n",
              "    .dataframe tbody tr th:only-of-type {\n",
              "        vertical-align: middle;\n",
              "    }\n",
              "\n",
              "    .dataframe tbody tr th {\n",
              "        vertical-align: top;\n",
              "    }\n",
              "\n",
              "    .dataframe thead th {\n",
              "        text-align: right;\n",
              "    }\n",
              "</style>\n",
              "<table border=\"1\" class=\"dataframe\">\n",
              "  <thead>\n",
              "    <tr style=\"text-align: right;\">\n",
              "      <th></th>\n",
              "      <th>pclass</th>\n",
              "      <th>survived</th>\n",
              "      <th>name</th>\n",
              "      <th>sex</th>\n",
              "      <th>age</th>\n",
              "      <th>sibsp</th>\n",
              "      <th>parch</th>\n",
              "      <th>ticket</th>\n",
              "      <th>fare</th>\n",
              "      <th>cabin</th>\n",
              "      <th>embarked</th>\n",
              "      <th>boat</th>\n",
              "      <th>body</th>\n",
              "      <th>home.dest</th>\n",
              "      <th>age_cat</th>\n",
              "      <th>gender</th>\n",
              "    </tr>\n",
              "  </thead>\n",
              "  <tbody>\n",
              "    <tr>\n",
              "      <th>0</th>\n",
              "      <td>1.0</td>\n",
              "      <td>1.0</td>\n",
              "      <td>Allen, Miss. Elisabeth Walton</td>\n",
              "      <td>female</td>\n",
              "      <td>29.0000</td>\n",
              "      <td>0.0</td>\n",
              "      <td>0.0</td>\n",
              "      <td>24160</td>\n",
              "      <td>211.3375</td>\n",
              "      <td>B5</td>\n",
              "      <td>S</td>\n",
              "      <td>2</td>\n",
              "      <td>NaN</td>\n",
              "      <td>St Louis, MO</td>\n",
              "      <td>young</td>\n",
              "      <td>0</td>\n",
              "    </tr>\n",
              "    <tr>\n",
              "      <th>1</th>\n",
              "      <td>1.0</td>\n",
              "      <td>1.0</td>\n",
              "      <td>Allison, Master. Hudson Trevor</td>\n",
              "      <td>male</td>\n",
              "      <td>0.9167</td>\n",
              "      <td>1.0</td>\n",
              "      <td>2.0</td>\n",
              "      <td>113781</td>\n",
              "      <td>151.5500</td>\n",
              "      <td>C22 C26</td>\n",
              "      <td>S</td>\n",
              "      <td>11</td>\n",
              "      <td>NaN</td>\n",
              "      <td>Montreal, PQ / Chesterville, ON</td>\n",
              "      <td>baby</td>\n",
              "      <td>1</td>\n",
              "    </tr>\n",
              "    <tr>\n",
              "      <th>2</th>\n",
              "      <td>1.0</td>\n",
              "      <td>0.0</td>\n",
              "      <td>Allison, Miss. Helen Loraine</td>\n",
              "      <td>female</td>\n",
              "      <td>2.0000</td>\n",
              "      <td>1.0</td>\n",
              "      <td>2.0</td>\n",
              "      <td>113781</td>\n",
              "      <td>151.5500</td>\n",
              "      <td>C22 C26</td>\n",
              "      <td>S</td>\n",
              "      <td>NaN</td>\n",
              "      <td>NaN</td>\n",
              "      <td>Montreal, PQ / Chesterville, ON</td>\n",
              "      <td>baby</td>\n",
              "      <td>0</td>\n",
              "    </tr>\n",
              "    <tr>\n",
              "      <th>3</th>\n",
              "      <td>1.0</td>\n",
              "      <td>0.0</td>\n",
              "      <td>Allison, Mr. Hudson Joshua Creighton</td>\n",
              "      <td>male</td>\n",
              "      <td>30.0000</td>\n",
              "      <td>1.0</td>\n",
              "      <td>2.0</td>\n",
              "      <td>113781</td>\n",
              "      <td>151.5500</td>\n",
              "      <td>C22 C26</td>\n",
              "      <td>S</td>\n",
              "      <td>NaN</td>\n",
              "      <td>135.0</td>\n",
              "      <td>Montreal, PQ / Chesterville, ON</td>\n",
              "      <td>young</td>\n",
              "      <td>1</td>\n",
              "    </tr>\n",
              "    <tr>\n",
              "      <th>4</th>\n",
              "      <td>1.0</td>\n",
              "      <td>0.0</td>\n",
              "      <td>Allison, Mrs. Hudson J C (Bessie Waldo Daniels)</td>\n",
              "      <td>female</td>\n",
              "      <td>25.0000</td>\n",
              "      <td>1.0</td>\n",
              "      <td>2.0</td>\n",
              "      <td>113781</td>\n",
              "      <td>151.5500</td>\n",
              "      <td>C22 C26</td>\n",
              "      <td>S</td>\n",
              "      <td>NaN</td>\n",
              "      <td>NaN</td>\n",
              "      <td>Montreal, PQ / Chesterville, ON</td>\n",
              "      <td>young</td>\n",
              "      <td>0</td>\n",
              "    </tr>\n",
              "  </tbody>\n",
              "</table>\n",
              "</div>\n",
              "      <button class=\"colab-df-convert\" onclick=\"convertToInteractive('df-49dbe830-6896-49ec-9969-842ca6011f31')\"\n",
              "              title=\"Convert this dataframe to an interactive table.\"\n",
              "              style=\"display:none;\">\n",
              "        \n",
              "  <svg xmlns=\"http://www.w3.org/2000/svg\" height=\"24px\"viewBox=\"0 0 24 24\"\n",
              "       width=\"24px\">\n",
              "    <path d=\"M0 0h24v24H0V0z\" fill=\"none\"/>\n",
              "    <path d=\"M18.56 5.44l.94 2.06.94-2.06 2.06-.94-2.06-.94-.94-2.06-.94 2.06-2.06.94zm-11 1L8.5 8.5l.94-2.06 2.06-.94-2.06-.94L8.5 2.5l-.94 2.06-2.06.94zm10 10l.94 2.06.94-2.06 2.06-.94-2.06-.94-.94-2.06-.94 2.06-2.06.94z\"/><path d=\"M17.41 7.96l-1.37-1.37c-.4-.4-.92-.59-1.43-.59-.52 0-1.04.2-1.43.59L10.3 9.45l-7.72 7.72c-.78.78-.78 2.05 0 2.83L4 21.41c.39.39.9.59 1.41.59.51 0 1.02-.2 1.41-.59l7.78-7.78 2.81-2.81c.8-.78.8-2.07 0-2.86zM5.41 20L4 18.59l7.72-7.72 1.47 1.35L5.41 20z\"/>\n",
              "  </svg>\n",
              "      </button>\n",
              "      \n",
              "  <style>\n",
              "    .colab-df-container {\n",
              "      display:flex;\n",
              "      flex-wrap:wrap;\n",
              "      gap: 12px;\n",
              "    }\n",
              "\n",
              "    .colab-df-convert {\n",
              "      background-color: #E8F0FE;\n",
              "      border: none;\n",
              "      border-radius: 50%;\n",
              "      cursor: pointer;\n",
              "      display: none;\n",
              "      fill: #1967D2;\n",
              "      height: 32px;\n",
              "      padding: 0 0 0 0;\n",
              "      width: 32px;\n",
              "    }\n",
              "\n",
              "    .colab-df-convert:hover {\n",
              "      background-color: #E2EBFA;\n",
              "      box-shadow: 0px 1px 2px rgba(60, 64, 67, 0.3), 0px 1px 3px 1px rgba(60, 64, 67, 0.15);\n",
              "      fill: #174EA6;\n",
              "    }\n",
              "\n",
              "    [theme=dark] .colab-df-convert {\n",
              "      background-color: #3B4455;\n",
              "      fill: #D2E3FC;\n",
              "    }\n",
              "\n",
              "    [theme=dark] .colab-df-convert:hover {\n",
              "      background-color: #434B5C;\n",
              "      box-shadow: 0px 1px 3px 1px rgba(0, 0, 0, 0.15);\n",
              "      filter: drop-shadow(0px 1px 2px rgba(0, 0, 0, 0.3));\n",
              "      fill: #FFFFFF;\n",
              "    }\n",
              "  </style>\n",
              "\n",
              "      <script>\n",
              "        const buttonEl =\n",
              "          document.querySelector('#df-49dbe830-6896-49ec-9969-842ca6011f31 button.colab-df-convert');\n",
              "        buttonEl.style.display =\n",
              "          google.colab.kernel.accessAllowed ? 'block' : 'none';\n",
              "\n",
              "        async function convertToInteractive(key) {\n",
              "          const element = document.querySelector('#df-49dbe830-6896-49ec-9969-842ca6011f31');\n",
              "          const dataTable =\n",
              "            await google.colab.kernel.invokeFunction('convertToInteractive',\n",
              "                                                     [key], {});\n",
              "          if (!dataTable) return;\n",
              "\n",
              "          const docLinkHtml = 'Like what you see? Visit the ' +\n",
              "            '<a target=\"_blank\" href=https://colab.research.google.com/notebooks/data_table.ipynb>data table notebook</a>'\n",
              "            + ' to learn more about interactive tables.';\n",
              "          element.innerHTML = '';\n",
              "          dataTable['output_type'] = 'display_data';\n",
              "          await google.colab.output.renderOutput(dataTable, element);\n",
              "          const docLink = document.createElement('div');\n",
              "          docLink.innerHTML = docLinkHtml;\n",
              "          element.appendChild(docLink);\n",
              "        }\n",
              "      </script>\n",
              "    </div>\n",
              "  </div>\n",
              "  "
            ]
          },
          "metadata": {},
          "execution_count": 17
        }
      ]
    },
    {
      "cell_type": "code",
      "metadata": {
        "id": "MUx3YqQ6SeQg",
        "colab": {
          "base_uri": "https://localhost:8080/"
        },
        "outputId": "5d9b444d-5abe-40a7-97ae-24662e319202"
      },
      "source": [
        "titanic.isnull().any() #결과가 없는 부분을 확인 "
      ],
      "execution_count": 18,
      "outputs": [
        {
          "output_type": "execute_result",
          "data": {
            "text/plain": [
              "pclass        True\n",
              "survived      True\n",
              "name          True\n",
              "sex           True\n",
              "age           True\n",
              "sibsp         True\n",
              "parch         True\n",
              "ticket        True\n",
              "fare          True\n",
              "cabin         True\n",
              "embarked      True\n",
              "boat          True\n",
              "body          True\n",
              "home.dest     True\n",
              "age_cat       True\n",
              "gender       False\n",
              "dtype: bool"
            ]
          },
          "metadata": {},
          "execution_count": 18
        }
      ]
    },
    {
      "cell_type": "code",
      "metadata": {
        "id": "dNGKdxCJSx8y",
        "colab": {
          "base_uri": "https://localhost:8080/"
        },
        "outputId": "4092b74a-a34d-40b4-cd36-d872f32cab3f"
      },
      "source": [
        "#결과가 없는 부분은 제거 \n",
        "titanic = titanic[titanic['pclass'].notnull()]\n",
        "titanic = titanic[titanic['survived'].notnull()]\n",
        "titanic = titanic[titanic['age'].notnull()]\n",
        "titanic = titanic[titanic['fare'].notnull()]\n",
        "titanic.info()"
      ],
      "execution_count": 19,
      "outputs": [
        {
          "output_type": "stream",
          "name": "stdout",
          "text": [
            "<class 'pandas.core.frame.DataFrame'>\n",
            "Int64Index: 1045 entries, 0 to 1308\n",
            "Data columns (total 16 columns):\n",
            " #   Column     Non-Null Count  Dtype   \n",
            "---  ------     --------------  -----   \n",
            " 0   pclass     1045 non-null   float64 \n",
            " 1   survived   1045 non-null   float64 \n",
            " 2   name       1045 non-null   object  \n",
            " 3   sex        1045 non-null   object  \n",
            " 4   age        1045 non-null   float64 \n",
            " 5   sibsp      1045 non-null   float64 \n",
            " 6   parch      1045 non-null   float64 \n",
            " 7   ticket     1045 non-null   object  \n",
            " 8   fare       1045 non-null   float64 \n",
            " 9   cabin      272 non-null    object  \n",
            " 10  embarked   1043 non-null   object  \n",
            " 11  boat       417 non-null    object  \n",
            " 12  body       119 non-null    float64 \n",
            " 13  home.dest  685 non-null    object  \n",
            " 14  age_cat    1045 non-null   category\n",
            " 15  gender     1045 non-null   int64   \n",
            "dtypes: category(1), float64(7), int64(1), object(7)\n",
            "memory usage: 131.9+ KB\n"
          ]
        }
      ]
    },
    {
      "cell_type": "markdown",
      "source": [
        "상관관계"
      ],
      "metadata": {
        "id": "aPdKYniiIPFC"
      }
    },
    {
      "cell_type": "code",
      "metadata": {
        "id": "5BJweK10TKpo",
        "colab": {
          "base_uri": "https://localhost:8080/",
          "height": 319
        },
        "outputId": "21aa9f4d-c8e7-4afb-abd6-86cc627dae54"
      },
      "source": [
        "correlation_matrix = titanic.corr().round(1)\n",
        "sns.heatmap(data = correlation_matrix, annot = True, cmap = 'bwr')"
      ],
      "execution_count": 20,
      "outputs": [
        {
          "output_type": "execute_result",
          "data": {
            "text/plain": [
              "<matplotlib.axes._subplots.AxesSubplot at 0x7f714fb00c90>"
            ]
          },
          "metadata": {},
          "execution_count": 20
        },
        {
          "output_type": "display_data",
          "data": {
            "text/plain": [
              "<Figure size 432x288 with 2 Axes>"
            ],
            "image/png": "[encoded data removed]"
          },
          "metadata": {
            "needs_background": "light"
          }
        }
      ]
    },
    {
      "cell_type": "markdown",
      "source": [
        "특성을 선택하고 데이터를 나누자"
      ],
      "metadata": {
        "id": "3Ai6JCCUITRK"
      }
    },
    {
      "cell_type": "code",
      "metadata": {
        "id": "R2Xq9PkHTnRq"
      },
      "source": [
        "from sklearn.model_selection import train_test_split\n",
        "\n",
        "X = titanic[['pclass', 'age', 'sibsp', 'parch', 'fare', 'gender']]\n",
        "y = titanic['survived']\n",
        "\n",
        "X_train, X_test, y_train, y_test = \\\n",
        "train_test_split(X, y, test_size = 0.2, random_state = 13)"
      ],
      "execution_count": 21,
      "outputs": []
    },
    {
      "cell_type": "code",
      "metadata": {
        "id": "WxWpU0VQUPPP",
        "colab": {
          "base_uri": "https://localhost:8080/"
        },
        "outputId": "b119fe00-f67e-42ac-a319-4a36aa7aecb6"
      },
      "source": [
        "from sklearn.tree import DecisionTreeClassifier\n",
        "from sklearn.metrics import accuracy_score\n",
        "\n",
        "dt = DecisionTreeClassifier(max_depth = 2, random_state = 13)\n",
        "dt.fit(X_train, y_train)\n",
        "\n",
        "pred = dt.predict(X_test)\n",
        "print(accuracy_score(y_test, pred))"
      ],
      "execution_count": 22,
      "outputs": [
        {
          "output_type": "stream",
          "name": "stdout",
          "text": [
            "0.7559808612440191\n"
          ]
        }
      ]
    },
    {
      "cell_type": "code",
      "metadata": {
        "id": "Ey_WWQSDcjxQ",
        "colab": {
          "base_uri": "https://localhost:8080/",
          "height": 460
        },
        "outputId": "07313943-4d5d-4dd5-9213-6cd6a2b49fe7"
      },
      "source": [
        "from graphviz import Source\n",
        "from sklearn.tree import export_graphviz\n",
        "\n",
        "Source(export_graphviz(dt, feature_names=X.columns,\n",
        "                       class_names=['not survived', 'survived'],\n",
        "                       rounded=True, filled=True))\n"
      ],
      "execution_count": 23,
      "outputs": [
        {
          "output_type": "execute_result",
          "data": {
            "text/plain": [
              "<graphviz.files.Source at 0x7f714f6c0cd0>"
            ],
            "image/svg+xml": "<?xml version=\"1.0\" encoding=\"UTF-8\" standalone=\"no\"?>\n<!DOCTYPE svg PUBLIC \"-//W3C//DTD SVG 1.1//EN\"\n \"http://www.w3.org/Graphics/SVG/1.1/DTD/svg11.dtd\">\n<!-- Generated by graphviz version 2.40.1 (20161225.0304)\n -->\n<!-- Title: Tree Pages: 1 -->\n<svg width=\"622pt\" height=\"314pt\"\n viewBox=\"0.00 0.00 621.50 314.00\" xmlns=\"http://www.w3.org/2000/svg\" xmlns:xlink=\"http://www.w3.org/1999/xlink\">\n<g id=\"graph0\" class=\"graph\" transform=\"scale(1 1) rotate(0) translate(4 310)\">\n<title>Tree</title>\n<polygon fill=\"#ffffff\" stroke=\"transparent\" points=\"-4,4 -4,-310 617.5,-310 617.5,4 -4,4\"/>\n<!-- 0 -->\n<g id=\"node1\" class=\"node\">\n<title>0</title>\n<path fill=\"#f7d7c0\" stroke=\"#000000\" d=\"M356.5,-306C356.5,-306 235.5,-306 235.5,-306 229.5,-306 223.5,-300 223.5,-294 223.5,-294 223.5,-235 223.5,-235 223.5,-229 229.5,-223 235.5,-223 235.5,-223 356.5,-223 356.5,-223 362.5,-223 368.5,-229 368.5,-235 368.5,-235 368.5,-294 368.5,-294 368.5,-300 362.5,-306 356.5,-306\"/>\n<text text-anchor=\"middle\" x=\"296\" y=\"-290.8\" font-family=\"Helvetica,sans-Serif\" font-size=\"14.00\" fill=\"#000000\">gender &lt;= 0.5</text>\n<text text-anchor=\"middle\" x=\"296\" y=\"-275.8\" font-family=\"Helvetica,sans-Serif\" font-size=\"14.00\" fill=\"#000000\">gini = 0.482</text>\n<text text-anchor=\"middle\" x=\"296\" y=\"-260.8\" font-family=\"Helvetica,sans-Serif\" font-size=\"14.00\" fill=\"#000000\">samples = 836</text>\n<text text-anchor=\"middle\" x=\"296\" y=\"-245.8\" font-family=\"Helvetica,sans-Serif\" font-size=\"14.00\" fill=\"#000000\">value = [497, 339]</text>\n<text text-anchor=\"middle\" x=\"296\" y=\"-230.8\" font-family=\"Helvetica,sans-Serif\" font-size=\"14.00\" fill=\"#000000\">class = not survived</text>\n</g>\n<!-- 1 -->\n<g id=\"node2\" class=\"node\">\n<title>1</title>\n<path fill=\"#7abdee\" stroke=\"#000000\" d=\"M265,-187C265,-187 165,-187 165,-187 159,-187 153,-181 153,-175 153,-175 153,-116 153,-116 153,-110 159,-104 165,-104 165,-104 265,-104 265,-104 271,-104 277,-110 277,-116 277,-116 277,-175 277,-175 277,-181 271,-187 265,-187\"/>\n<text text-anchor=\"middle\" x=\"215\" y=\"-171.8\" font-family=\"Helvetica,sans-Serif\" font-size=\"14.00\" fill=\"#000000\">pclass &lt;= 2.5</text>\n<text text-anchor=\"middle\" x=\"215\" y=\"-156.8\" font-family=\"Helvetica,sans-Serif\" font-size=\"14.00\" fill=\"#000000\">gini = 0.373</text>\n<text text-anchor=\"middle\" x=\"215\" y=\"-141.8\" font-family=\"Helvetica,sans-Serif\" font-size=\"14.00\" fill=\"#000000\">samples = 314</text>\n<text text-anchor=\"middle\" x=\"215\" y=\"-126.8\" font-family=\"Helvetica,sans-Serif\" font-size=\"14.00\" fill=\"#000000\">value = [78, 236]</text>\n<text text-anchor=\"middle\" x=\"215\" y=\"-111.8\" font-family=\"Helvetica,sans-Serif\" font-size=\"14.00\" fill=\"#000000\">class = survived</text>\n</g>\n<!-- 0&#45;&gt;1 -->\n<g id=\"edge1\" class=\"edge\">\n<title>0&#45;&gt;1</title>\n<path fill=\"none\" stroke=\"#000000\" d=\"M267.6701,-222.8796C261.7237,-214.1434 255.3914,-204.8404 249.255,-195.8253\"/>\n<polygon fill=\"#000000\" stroke=\"#000000\" points=\"251.9711,-193.5953 243.4508,-187.2981 246.1844,-197.5342 251.9711,-193.5953\"/>\n<text text-anchor=\"middle\" x=\"238.7843\" y=\"-208.1587\" font-family=\"Helvetica,sans-Serif\" font-size=\"14.00\" fill=\"#000000\">True</text>\n</g>\n<!-- 4 -->\n<g id=\"node5\" class=\"node\">\n<title>4</title>\n<path fill=\"#eba06a\" stroke=\"#000000\" d=\"M438.5,-187C438.5,-187 317.5,-187 317.5,-187 311.5,-187 305.5,-181 305.5,-175 305.5,-175 305.5,-116 305.5,-116 305.5,-110 311.5,-104 317.5,-104 317.5,-104 438.5,-104 438.5,-104 444.5,-104 450.5,-110 450.5,-116 450.5,-116 450.5,-175 450.5,-175 450.5,-181 444.5,-187 438.5,-187\"/>\n<text text-anchor=\"middle\" x=\"378\" y=\"-171.8\" font-family=\"Helvetica,sans-Serif\" font-size=\"14.00\" fill=\"#000000\">pclass &lt;= 1.5</text>\n<text text-anchor=\"middle\" x=\"378\" y=\"-156.8\" font-family=\"Helvetica,sans-Serif\" font-size=\"14.00\" fill=\"#000000\">gini = 0.317</text>\n<text text-anchor=\"middle\" x=\"378\" y=\"-141.8\" font-family=\"Helvetica,sans-Serif\" font-size=\"14.00\" fill=\"#000000\">samples = 522</text>\n<text text-anchor=\"middle\" x=\"378\" y=\"-126.8\" font-family=\"Helvetica,sans-Serif\" font-size=\"14.00\" fill=\"#000000\">value = [419, 103]</text>\n<text text-anchor=\"middle\" x=\"378\" y=\"-111.8\" font-family=\"Helvetica,sans-Serif\" font-size=\"14.00\" fill=\"#000000\">class = not survived</text>\n</g>\n<!-- 0&#45;&gt;4 -->\n<g id=\"edge4\" class=\"edge\">\n<title>0&#45;&gt;4</title>\n<path fill=\"none\" stroke=\"#000000\" d=\"M324.6796,-222.8796C330.7615,-214.0534 337.2422,-204.6485 343.5141,-195.5466\"/>\n<polygon fill=\"#000000\" stroke=\"#000000\" points=\"346.4059,-197.5184 349.198,-187.2981 340.6418,-193.5465 346.4059,-197.5184\"/>\n<text text-anchor=\"middle\" x=\"353.7239\" y=\"-208.185\" font-family=\"Helvetica,sans-Serif\" font-size=\"14.00\" fill=\"#000000\">False</text>\n</g>\n<!-- 2 -->\n<g id=\"node3\" class=\"node\">\n<title>2</title>\n<path fill=\"#47a4e7\" stroke=\"#000000\" d=\"M112,-68C112,-68 12,-68 12,-68 6,-68 0,-62 0,-56 0,-56 0,-12 0,-12 0,-6 6,0 12,0 12,0 112,0 112,0 118,0 124,-6 124,-12 124,-12 124,-56 124,-56 124,-62 118,-68 112,-68\"/>\n<text text-anchor=\"middle\" x=\"62\" y=\"-52.8\" font-family=\"Helvetica,sans-Serif\" font-size=\"14.00\" fill=\"#000000\">gini = 0.126</text>\n<text text-anchor=\"middle\" x=\"62\" y=\"-37.8\" font-family=\"Helvetica,sans-Serif\" font-size=\"14.00\" fill=\"#000000\">samples = 193</text>\n<text text-anchor=\"middle\" x=\"62\" y=\"-22.8\" font-family=\"Helvetica,sans-Serif\" font-size=\"14.00\" fill=\"#000000\">value = [13, 180]</text>\n<text text-anchor=\"middle\" x=\"62\" y=\"-7.8\" font-family=\"Helvetica,sans-Serif\" font-size=\"14.00\" fill=\"#000000\">class = survived</text>\n</g>\n<!-- 1&#45;&gt;2 -->\n<g id=\"edge2\" class=\"edge\">\n<title>1&#45;&gt;2</title>\n<path fill=\"none\" stroke=\"#000000\" d=\"M158.0284,-103.9815C144.6604,-94.2394 130.4396,-83.8759 117.1528,-74.193\"/>\n<polygon fill=\"#000000\" stroke=\"#000000\" points=\"119.1595,-71.3247 109.0165,-68.2637 115.0368,-76.9819 119.1595,-71.3247\"/>\n</g>\n<!-- 3 -->\n<g id=\"node4\" class=\"node\">\n<title>3</title>\n<path fill=\"#fbeee4\" stroke=\"#000000\" d=\"M275.5,-68C275.5,-68 154.5,-68 154.5,-68 148.5,-68 142.5,-62 142.5,-56 142.5,-56 142.5,-12 142.5,-12 142.5,-6 148.5,0 154.5,0 154.5,0 275.5,0 275.5,0 281.5,0 287.5,-6 287.5,-12 287.5,-12 287.5,-56 287.5,-56 287.5,-62 281.5,-68 275.5,-68\"/>\n<text text-anchor=\"middle\" x=\"215\" y=\"-52.8\" font-family=\"Helvetica,sans-Serif\" font-size=\"14.00\" fill=\"#000000\">gini = 0.497</text>\n<text text-anchor=\"middle\" x=\"215\" y=\"-37.8\" font-family=\"Helvetica,sans-Serif\" font-size=\"14.00\" fill=\"#000000\">samples = 121</text>\n<text text-anchor=\"middle\" x=\"215\" y=\"-22.8\" font-family=\"Helvetica,sans-Serif\" font-size=\"14.00\" fill=\"#000000\">value = [65, 56]</text>\n<text text-anchor=\"middle\" x=\"215\" y=\"-7.8\" font-family=\"Helvetica,sans-Serif\" font-size=\"14.00\" fill=\"#000000\">class = not survived</text>\n</g>\n<!-- 1&#45;&gt;3 -->\n<g id=\"edge3\" class=\"edge\">\n<title>1&#45;&gt;3</title>\n<path fill=\"none\" stroke=\"#000000\" d=\"M215,-103.9815C215,-95.618 215,-86.7965 215,-78.3409\"/>\n<polygon fill=\"#000000\" stroke=\"#000000\" points=\"218.5001,-78.2636 215,-68.2637 211.5001,-78.2637 218.5001,-78.2636\"/>\n</g>\n<!-- 5 -->\n<g id=\"node6\" class=\"node\">\n<title>5</title>\n<path fill=\"#f3c4a2\" stroke=\"#000000\" d=\"M438.5,-68C438.5,-68 317.5,-68 317.5,-68 311.5,-68 305.5,-62 305.5,-56 305.5,-56 305.5,-12 305.5,-12 305.5,-6 311.5,0 317.5,0 317.5,0 438.5,0 438.5,0 444.5,0 450.5,-6 450.5,-12 450.5,-12 450.5,-56 450.5,-56 450.5,-62 444.5,-68 438.5,-68\"/>\n<text text-anchor=\"middle\" x=\"378\" y=\"-52.8\" font-family=\"Helvetica,sans-Serif\" font-size=\"14.00\" fill=\"#000000\">gini = 0.453</text>\n<text text-anchor=\"middle\" x=\"378\" y=\"-37.8\" font-family=\"Helvetica,sans-Serif\" font-size=\"14.00\" fill=\"#000000\">samples = 124</text>\n<text text-anchor=\"middle\" x=\"378\" y=\"-22.8\" font-family=\"Helvetica,sans-Serif\" font-size=\"14.00\" fill=\"#000000\">value = [81, 43]</text>\n<text text-anchor=\"middle\" x=\"378\" y=\"-7.8\" font-family=\"Helvetica,sans-Serif\" font-size=\"14.00\" fill=\"#000000\">class = not survived</text>\n</g>\n<!-- 4&#45;&gt;5 -->\n<g id=\"edge5\" class=\"edge\">\n<title>4&#45;&gt;5</title>\n<path fill=\"none\" stroke=\"#000000\" d=\"M378,-103.9815C378,-95.618 378,-86.7965 378,-78.3409\"/>\n<polygon fill=\"#000000\" stroke=\"#000000\" points=\"381.5001,-78.2636 378,-68.2637 374.5001,-78.2637 381.5001,-78.2636\"/>\n</g>\n<!-- 6 -->\n<g id=\"node7\" class=\"node\">\n<title>6</title>\n<path fill=\"#ea975c\" stroke=\"#000000\" d=\"M601.5,-68C601.5,-68 480.5,-68 480.5,-68 474.5,-68 468.5,-62 468.5,-56 468.5,-56 468.5,-12 468.5,-12 468.5,-6 474.5,0 480.5,0 480.5,0 601.5,0 601.5,0 607.5,0 613.5,-6 613.5,-12 613.5,-12 613.5,-56 613.5,-56 613.5,-62 607.5,-68 601.5,-68\"/>\n<text text-anchor=\"middle\" x=\"541\" y=\"-52.8\" font-family=\"Helvetica,sans-Serif\" font-size=\"14.00\" fill=\"#000000\">gini = 0.256</text>\n<text text-anchor=\"middle\" x=\"541\" y=\"-37.8\" font-family=\"Helvetica,sans-Serif\" font-size=\"14.00\" fill=\"#000000\">samples = 398</text>\n<text text-anchor=\"middle\" x=\"541\" y=\"-22.8\" font-family=\"Helvetica,sans-Serif\" font-size=\"14.00\" fill=\"#000000\">value = [338, 60]</text>\n<text text-anchor=\"middle\" x=\"541\" y=\"-7.8\" font-family=\"Helvetica,sans-Serif\" font-size=\"14.00\" fill=\"#000000\">class = not survived</text>\n</g>\n<!-- 4&#45;&gt;6 -->\n<g id=\"edge6\" class=\"edge\">\n<title>4&#45;&gt;6</title>\n<path fill=\"none\" stroke=\"#000000\" d=\"M438.6952,-103.9815C453.147,-94.0957 468.5342,-83.5701 482.868,-73.7651\"/>\n<polygon fill=\"#000000\" stroke=\"#000000\" points=\"484.8932,-76.6204 491.1708,-68.0856 480.941,-70.8428 484.8932,-76.6204\"/>\n</g>\n</g>\n</svg>\n"
          },
          "metadata": {},
          "execution_count": 23
        }
      ]
    },
    {
      "cell_type": "markdown",
      "source": [
        "logistic regression 적용"
      ],
      "metadata": {
        "id": "WceiDyyHIduH"
      }
    },
    {
      "cell_type": "code",
      "metadata": {
        "id": "F8om34YaVGTn",
        "colab": {
          "base_uri": "https://localhost:8080/"
        },
        "outputId": "713cfad1-3413-4c36-bf31-cade03ed67e1"
      },
      "source": [
        "from sklearn.linear_model import LogisticRegression\n",
        "\n",
        "lr = LogisticRegression(random_state = 13, solver = 'liblinear')\n",
        "lr.fit(X_train, y_train)\n",
        "\n",
        "pred = lr.predict(X_test)\n",
        "print(accuracy_score(y_test, pred))"
      ],
      "execution_count": 24,
      "outputs": [
        {
          "output_type": "stream",
          "name": "stdout",
          "text": [
            "0.7511961722488039\n"
          ]
        }
      ]
    },
    {
      "cell_type": "markdown",
      "source": [
        "다시 데이터를 standaredscaler를 적용하고 다시 학습 "
      ],
      "metadata": {
        "id": "h659QX5bIhwQ"
      }
    },
    {
      "cell_type": "code",
      "metadata": {
        "id": "zXj8we3FZ0ep",
        "colab": {
          "base_uri": "https://localhost:8080/"
        },
        "outputId": "d323abe3-6ee2-41d2-c802-72b954fe0531"
      },
      "source": [
        "from sklearn.preprocessing import StandardScaler\n",
        "\n",
        "SS = StandardScaler()\n",
        "SS.fit(X)\n",
        "\n",
        "X_ss = SS.transform(X)\n",
        "\n",
        "X_train, X_test, y_train, y_test = \\\n",
        "train_test_split(X_ss, y, test_size = 0.2, random_state = 13)\n",
        "\n",
        "lr.fit(X_train, y_train)"
      ],
      "execution_count": 25,
      "outputs": [
        {
          "output_type": "execute_result",
          "data": {
            "text/plain": [
              "LogisticRegression(random_state=13, solver='liblinear')"
            ]
          },
          "metadata": {},
          "execution_count": 25
        }
      ]
    },
    {
      "cell_type": "code",
      "metadata": {
        "id": "rnqJx4-4aZ7Y",
        "colab": {
          "base_uri": "https://localhost:8080/"
        },
        "outputId": "1b3484c9-c8c1-4fc4-a653-c0afba1a9628"
      },
      "source": [
        "#여전히 accuracy가 개선되지 않음 \n",
        "pred = lr.predict(X_train)\n",
        "print(\"Train Acc : \", accuracy_score(y_train, pred))\n",
        "\n",
        "pred = lr.predict(X_test)\n",
        "print(\"Train Acc : \", accuracy_score(y_test, pred))\n",
        "#특성을 정규화했다고 항상 성과가 잘 나오는 것은 아님 "
      ],
      "execution_count": 27,
      "outputs": [
        {
          "output_type": "stream",
          "name": "stdout",
          "text": [
            "Train Acc :  0.7930622009569378\n",
            "Train Acc :  0.7559808612440191\n"
          ]
        }
      ]
    },
    {
      "cell_type": "markdown",
      "source": [
        "디카프리오와 윈슬릿의 생존율 "
      ],
      "metadata": {
        "id": "dAXmdI8bIv6F"
      }
    },
    {
      "cell_type": "code",
      "metadata": {
        "id": "vUunVvLfVau6",
        "colab": {
          "base_uri": "https://localhost:8080/"
        },
        "outputId": "4585fd4e-aae1-4840-b8a3-07ad504948eb"
      },
      "source": [
        "import numpy as np\n",
        "\n",
        "dicaprio = np.array([[3, 18, 0, 0, 5, 1]])\n",
        "dicaprio_ss = SS.transform(dicaprio)\n",
        "print('Dicaprio : ', lr.predict_proba(dicaprio_ss))"
      ],
      "execution_count": 28,
      "outputs": [
        {
          "output_type": "stream",
          "name": "stdout",
          "text": [
            "Dicaprio :  [[0.8574148 0.1425852]]\n"
          ]
        },
        {
          "output_type": "stream",
          "name": "stderr",
          "text": [
            "/usr/local/lib/python3.7/dist-packages/sklearn/base.py:451: UserWarning:\n",
            "\n",
            "X does not have valid feature names, but StandardScaler was fitted with feature names\n",
            "\n"
          ]
        }
      ]
    },
    {
      "cell_type": "code",
      "metadata": {
        "id": "L0E3_DVuV-7E",
        "colab": {
          "base_uri": "https://localhost:8080/"
        },
        "outputId": "4ac4380c-bd77-4d88-bd86-0a0c2a679206"
      },
      "source": [
        "winslet = np.array([[1, 16, 1, 1, 100, 0]])\n",
        "winslet_ss = SS.transform(winslet)\n",
        "print('Winslet : ', lr.predict_proba(winslet_ss)[0, 1])"
      ],
      "execution_count": 29,
      "outputs": [
        {
          "output_type": "stream",
          "name": "stdout",
          "text": [
            "Winslet :  0.9396528131031697\n"
          ]
        },
        {
          "output_type": "stream",
          "name": "stderr",
          "text": [
            "/usr/local/lib/python3.7/dist-packages/sklearn/base.py:451: UserWarning:\n",
            "\n",
            "X does not have valid feature names, but StandardScaler was fitted with feature names\n",
            "\n"
          ]
        }
      ]
    },
    {
      "cell_type": "code",
      "source": [
        "#10주차\n",
        "#Logistic Regression 학습하기\n",
        "from sklearn.linear_model import LogisticRegression\n",
        "\n",
        "log_reg = LogisticRegression(random_state = 13, solver = 'liblinear')\n",
        "log_reg.fit(X_train, y_train)"
      ],
      "metadata": {
        "colab": {
          "base_uri": "https://localhost:8080/"
        },
        "id": "nl03m0Ps7dOc",
        "outputId": "effdf8db-f309-4dee-a575-acbd4c9bdc74"
      },
      "execution_count": 30,
      "outputs": [
        {
          "output_type": "execute_result",
          "data": {
            "text/plain": [
              "LogisticRegression(random_state=13, solver='liblinear')"
            ]
          },
          "metadata": {},
          "execution_count": 30
        }
      ]
    },
    {
      "cell_type": "code",
      "source": [
        "#Binarizer를 이용해서 Threshold값 변경 적용 0.5\n",
        "from sklearn.preprocessing import Binarizer\n",
        "\n",
        "custom_threshold = 0.5\n",
        "\n",
        "pred_proba = log_reg.predict_proba(X_test)\n",
        "pred_proba_1 = pred_proba[:, 1].reshape(-1, 1) #행 단위에선 전체를, 열에선 사망확률 (0)이 아닌 생존 확률만 reshape를 이용해서 column형태로 "
      ],
      "metadata": {
        "id": "Gp-buH4_8pVI"
      },
      "execution_count": 35,
      "outputs": []
    },
    {
      "cell_type": "code",
      "source": [
        "#Threshold = 0.5 예측\n",
        "binarizer = Binarizer(threshold = custom_threshold).fit(pred_proba_1)\n",
        "custom_predict = binarizer.transform(pred_proba_1) #0.5를 기준으로 생존, 사망 값을 나눔\n",
        "custom_predict[:5] #생존이다 사망이다 확률을 나타내주는 "
      ],
      "metadata": {
        "colab": {
          "base_uri": "https://localhost:8080/"
        },
        "id": "dSO5GB8w9cHN",
        "outputId": "dbd7c226-7a51-423c-c462-7e7ea8ca78c6"
      },
      "execution_count": 36,
      "outputs": [
        {
          "output_type": "execute_result",
          "data": {
            "text/plain": [
              "array([[0.],\n",
              "       [0.],\n",
              "       [0.],\n",
              "       [0.],\n",
              "       [1.]])"
            ]
          },
          "metadata": {},
          "execution_count": 36
        }
      ]
    },
    {
      "cell_type": "code",
      "source": [
        "#Precision, Recall 계산\n",
        "\n",
        "from sklearn.metrics import accuracy_score, precision_score, recall_score\n",
        "\n",
        "print ('Threshold : ', custom_threshold)\n",
        "print ('Accuracy : ', accuracy_score(y_test, custom_predict)) #정답, 예측값\n",
        "print ('Precision : ', precision_score(y_test, custom_predict))\n",
        "print ('Recall : ', recall_score(y_test, custom_predict))"
      ],
      "metadata": {
        "colab": {
          "base_uri": "https://localhost:8080/"
        },
        "id": "bIBIIRTt-h6k",
        "outputId": "6aea0891-f3b0-4bf3-e9af-f62d47634b33"
      },
      "execution_count": 40,
      "outputs": [
        {
          "output_type": "stream",
          "name": "stdout",
          "text": [
            "Threshold :  0.5\n",
            "Accuracy :  0.7559808612440191\n",
            "Precision :  0.7534246575342466\n",
            "Recall :  0.625\n"
          ]
        }
      ]
    },
    {
      "cell_type": "code",
      "source": [
        "#ROC 커브 코드\n",
        "from sklearn.metrics import roc_curve, roc_auc_score\n",
        "import matplotlib.pyplot as plt\n",
        "\n",
        "pred_proba_1 = log_reg.predict_proba(X_test)[:, 1]\n",
        "fpr, tpr, thresholds = roc_curve(y_test, pred_proba_1)\n",
        "#fallout 가로 , recall 세로, threshold\n",
        "#정답, 예측 확률 \n",
        "plt.figure(figsize = (8,8))\n",
        "plt.plot(fpr, tpr, label = 'LogisticRegression')\n",
        "plt.plot([0, 1], [0, 1], 'k--', label = 'random guess')\n",
        "#기준선 k: 검은색 실선 \n",
        "plt.title(\"ROC. AUC : \" + str(roc_auc_score(y_test, pred_proba_1)))\n",
        "plt.legend()\n",
        "plt.show()"
      ],
      "metadata": {
        "colab": {
          "base_uri": "https://localhost:8080/",
          "height": 499
        },
        "id": "MyeoTpFaApcI",
        "outputId": "8b89b76c-32b8-400b-afac-24fb41cea1f4"
      },
      "execution_count": 38,
      "outputs": [
        {
          "output_type": "display_data",
          "data": {
            "text/plain": [
              "<Figure size 576x576 with 1 Axes>"
            ],
            "image/png": "[encoded data removed]"
          },
          "metadata": {
            "needs_background": "light"
          }
        }
      ]
    },
    {
      "cell_type": "code",
      "source": [
        "#Precision Recall 커브 곡선\n",
        "from sklearn.metrics import precision_recall_curve\n",
        "precisions, recalls, thresholds = precision_recall_curve(y_test, pred_proba_1)\n",
        "\n",
        "plt.figure(figsize=(8, 8))\n",
        "plt.plot(thresholds, precisions[:len(thresholds)], label='precision')\n",
        "plt.plot(thresholds, recalls[:len(thresholds)], label='recall')\n",
        "plt.legend()\n",
        "plt.grid()\n",
        "plt.xlabel('threshold')\n",
        "plt.show()"
      ],
      "metadata": {
        "colab": {
          "base_uri": "https://localhost:8080/",
          "height": 497
        },
        "id": "48iooNOnBo3W",
        "outputId": "5de986db-2bed-4854-90b5-918e08515cbe"
      },
      "execution_count": null,
      "outputs": [
        {
          "output_type": "display_data",
          "data": {
            "text/plain": [
              "<Figure size 576x576 with 1 Axes>"
            ],
            "image/png": "[encoded data removed]"
          },
          "metadata": {
            "needs_background": "light"
          }
        }
      ]
    },
    {
      "cell_type": "code",
      "source": [
        ""
      ],
      "metadata": {
        "id": "a9XSsLKPcWa5"
      },
      "execution_count": null,
      "outputs": []
    }
  ]
}