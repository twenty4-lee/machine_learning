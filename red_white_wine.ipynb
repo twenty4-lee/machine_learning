{
  "nbformat": 4,
  "nbformat_minor": 0,
  "metadata": {
    "colab": {
      "name": "red_white_wine.ipynb",
      "provenance": []
    },
    "kernelspec": {
      "name": "python3",
      "display_name": "Python 3"
    },
    "language_info": {
      "name": "python"
    }
  },
  "cells": [
    {
      "cell_type": "markdown",
      "source": [
        "red wine 과 white wine 테이블 합치기"
      ],
      "metadata": {
        "id": "pDUHanoV7TQP"
      }
    },
    {
      "cell_type": "code",
      "execution_count": null,
      "metadata": {
        "colab": {
          "base_uri": "https://localhost:8080/",
          "height": 714
        },
        "id": "vDizxtOt6zTb",
        "outputId": "b87a4495-49a7-4628-da8a-d20d0a9472a2"
      },
      "outputs": [
        {
          "output_type": "stream",
          "name": "stdout",
          "text": [
            "<class 'pandas.core.frame.DataFrame'>\n",
            "Int64Index: 6497 entries, 0 to 4897\n",
            "Data columns (total 13 columns):\n",
            " #   Column                Non-Null Count  Dtype  \n",
            "---  ------                --------------  -----  \n",
            " 0   fixed acidity         6497 non-null   float64\n",
            " 1   volatile acidity      6497 non-null   float64\n",
            " 2   citric acid           6497 non-null   float64\n",
            " 3   residual sugar        6497 non-null   float64\n",
            " 4   chlorides             6497 non-null   float64\n",
            " 5   free sulfur dioxide   6497 non-null   float64\n",
            " 6   total sulfur dioxide  6497 non-null   float64\n",
            " 7   density               6497 non-null   float64\n",
            " 8   pH                    6497 non-null   float64\n",
            " 9   sulphates             6497 non-null   float64\n",
            " 10  alcohol               6497 non-null   float64\n",
            " 11  quality               6497 non-null   int64  \n",
            " 12  color                 6497 non-null   int64  \n",
            "dtypes: float64(11), int64(2)\n",
            "memory usage: 710.6 KB\n"
          ]
        },
        {
          "output_type": "display_data",
          "data": {
            "text/plain": [
              "<Figure size 576x432 with 1 Axes>"
            ],
            "image/png": "[encoded data removed]"
          },
          "metadata": {
            "needs_background": "light"
          }
        }
      ],
      "source": [
        "import pandas as pd\n",
        "\n",
        "#read_csv: csv파일을 읽는 명령 \n",
        "#sep: 파일이 어떤 기호로 분리되어 있는지 표시하는 것. 여기서는 데이터가 ;로 나누어져 있다.\n",
        "red_wine = pd.read_csv('./winequality-red.csv', sep = ';')\n",
        "white_wine = pd.read_csv('./winequality-white.csv', sep = ';')\n",
        "\n",
        "red_wine['color'] = 1 #새로운 column, color를 추가해서 1로 저장\n",
        "red_wine.head()\n",
        "white_wine['color'] = 0\n",
        "white_wine.head()\n",
        "\n",
        "#두 pandas dataframe을 하나로 합침\n",
        "#조건: dataset들의 열 단위가 일치해야 한다. \n",
        "wine = pd.concat([red_wine, white_wine])\n",
        "wine.info()\n",
        "\n",
        "#quality column의 unique를 확인함\n",
        "#unique: 유일한 값 찾기\n",
        "wine['quality'].unique()\n",
        "\n",
        "import matplotlib.pyplot as plt\n",
        "plt.figure(figsize = (8, 6))\n",
        "#히스토그램 그려주기 \n",
        "#alpha = 0연함 ~ 1진함 색 진하기의 정도 \n",
        "plt.hist(wine['quality'], bins = 6, facecolor = 'blue', alpha = 0.5)\n",
        "plt.show()\n",
        "\n",
        "wine['quality'].value_counts()\n",
        "#유일한 값 별 개수 세기 \n",
        "\n",
        "#저장하기. to_csv명령으로 해당 변수의 내용을 저장할 수 있음. ,로 구분하겠다.\n",
        "#wine.csv 가 생성되었다는 것을 볼 수 있다. \n",
        "wine.to_csv('./wine.csv', sep =',')"
      ]
    },
    {
      "cell_type": "markdown",
      "source": [
        "둘이 분류 시켜보기"
      ],
      "metadata": {
        "id": "pYsOPh_E7Yzf"
      }
    },
    {
      "cell_type": "code",
      "source": [
        "#y축을 color로 만들겠다.\n",
        "y = wine['color']\n",
        "#color를 열(1)단위로 지우겠다. 0이면 행단위\n",
        "X = wine.drop(['color'], axis = 1)\n",
        "X.head()\n",
        "\n",
        "#훈련셋, 테스트셋 나누기\n",
        "from sklearn.model_selection import train_test_split\n",
        "X_train, X_test, y_train, y_test = \\\n",
        "train_test_split(X, y, test_size = 0.2, random_state = 13)\n",
        "\n",
        "import numpy as np\n",
        "np.unique(y_train, return_counts = True)\n",
        "#(array([0, 1]), array([3913, 1284]))\n",
        "\n",
        "#logistic regression으로 훈련하기\n",
        "from sklearn.linear_model import LogisticRegression\n",
        "#solver: 알고리즘 선택\n",
        "#C: 정규화를 얼마나 강하게 할 것인가\n",
        "log_reg = LogisticRegression(random_state = 13, solver = 'liblinear', C = 10.)\n",
        "log_reg.fit(X_train, y_train)\n",
        "\n",
        "#훈련용 데이터의 accuracy 확인\n",
        "from sklearn.metrics import accuracy_score\n",
        "pred = log_reg.predict(X_train)\n",
        "accuracy_score(y_train, pred) #와인을 거의 정확하게 분류를 했다\n",
        "#테스트용 데이터의 accuracy 확인\n",
        "pred = log_reg.predict(X_test)\n",
        "accuracy_score(y_test, pred) \n",
        "\n",
        "from sklearn.metrics import confusion_matrix\n",
        "confusion_matrix(y_test, pred)\n",
        "\n",
        "#array([[980,   5],\n",
        "#      [ 11, 304]]) [0인데 0인 것, 0인데 1로 분류 -오차][1인데 1인 것, 1인데 0으로 분류 -오차]"
      ],
      "metadata": {
        "colab": {
          "base_uri": "https://localhost:8080/"
        },
        "id": "slhGQS8e7JZM",
        "outputId": "d5b60fc4-9b98-44b7-997c-33eb53c1b6b2"
      },
      "execution_count": null,
      "outputs": [
        {
          "output_type": "execute_result",
          "data": {
            "text/plain": [
              "array([[980,   5],\n",
              "       [ 11, 304]])"
            ]
          },
          "metadata": {},
          "execution_count": 2
        }
      ]
    },
    {
      "cell_type": "markdown",
      "source": [
        "seaborn을 활용하자"
      ],
      "metadata": {
        "id": "8dCPDaYr7fUQ"
      }
    },
    {
      "cell_type": "code",
      "source": [
        "import seaborn as sns\n",
        "#특징을 세 개만 사용해서 레드와인, 화이트와인 분류하기\n",
        "sns.boxplot(data = X[['fixed acidity', 'chlorides', 'quality']])\n",
        "\n",
        "#특성간 격차를 줄이는 대표적인 방법 - normalization: minmaxscaler, standardscaler\n",
        "from sklearn.preprocessing import MinMaxScaler, StandardScaler\n",
        "\n",
        "MMS = MinMaxScaler() #최솟값 0, 그리고 최댓값 1이 되도록 스케일링 \n",
        "SS = StandardScaler() #평균과 표준편차가 같아 지도록 스케일링\n",
        "MMS.fit(X)\n",
        "SS.fit(X)\n",
        "X_mms = MMS.transform(X)\n",
        "X_ss = SS.transform(X)\n",
        "\n",
        "#minmaxscaler, standardscaler 두 방법의 차이를 알기 위해 \n",
        "X_ss_pd = pd.DataFrame(X_ss, columns = X.columns)\n",
        "X_mms_pd = pd.DataFrame(X_mms, columns = X.columns)\n",
        "\n",
        "sns.boxplot(data = X_mms_pd[['fixed acidity', 'chlorides', 'quality']])\n",
        "sns.boxplot(data = X_ss_pd[['fixed acidity', 'chlorides', 'quality']])\n",
        "\n",
        "#minmaxscaler로 학습한 결과 \n",
        "X_out = X_mms_pd #mms를 ss로 바꾸면 standardscaler로 학습한 결과를 알 수 있음\n",
        "X_train, X_test, y_train, y_test = \\\n",
        "train_test_split(X_out, y, test_size = 0.2, random_state = 13)\n",
        "\n",
        "#logistic regression 학습하기\n",
        "log_reg = LogisticRegression(random_state = 13, solver = 'liblinear', C = 10.)\n",
        "log_reg.fit(X_train, y_train)\n",
        "\n",
        "pred = log_reg.predict(X_test)\n",
        "accuracy_score(y_test, pred)"
      ],
      "metadata": {
        "colab": {
          "base_uri": "https://localhost:8080/",
          "height": 282
        },
        "id": "ADpdb_6z7gcw",
        "outputId": "5d0ba6cd-c1ca-4ba3-ed0e-6476b37e550a"
      },
      "execution_count": null,
      "outputs": [
        {
          "output_type": "execute_result",
          "data": {
            "text/plain": [
              "0.9884615384615385"
            ]
          },
          "metadata": {},
          "execution_count": 3
        },
        {
          "output_type": "display_data",
          "data": {
            "text/plain": [
              "<Figure size 432x288 with 1 Axes>"
            ],
            "image/png": "[encoded data removed]"
          },
          "metadata": {
            "needs_background": "light"
          }
        }
      ]
    },
    {
      "cell_type": "code",
      "source": [
        "#Binarizer를 이용해서 Threshold값 변경 적용 0.5\n",
        "from sklearn.preprocessing import Binarizer\n",
        "\n",
        "custom_threshold = 0.9\n",
        "\n",
        "pred_proba = log_reg.predict_proba(X_test)\n",
        "pred_proba_1 = pred_proba[:, 1].reshape(-1, 1) #행 단위에선 전체를, 열에선 red wine(1) 확률만 reshape를 이용해서 column형태로 "
      ],
      "metadata": {
        "id": "AmpdyonATN0H"
      },
      "execution_count": null,
      "outputs": []
    },
    {
      "cell_type": "code",
      "source": [
        "#Threshold = 0.5 예측\n",
        "binarizer = Binarizer(threshold = custom_threshold).fit(pred_proba_1)\n",
        "custom_predict = binarizer.transform(pred_proba_1) #0.5를 기준으로 이상 - red, 이하 - white 값을 나눔\n",
        "custom_predict[:5] #red이다 white이다 확률을 나타내주는 "
      ],
      "metadata": {
        "colab": {
          "base_uri": "https://localhost:8080/"
        },
        "id": "PgS6RV3ZU4P7",
        "outputId": "aed0c5ae-5cec-4971-ec54-9c6c75d63af5"
      },
      "execution_count": null,
      "outputs": [
        {
          "output_type": "execute_result",
          "data": {
            "text/plain": [
              "array([[1.],\n",
              "       [0.],\n",
              "       [0.],\n",
              "       [0.],\n",
              "       [0.]])"
            ]
          },
          "metadata": {},
          "execution_count": 35
        }
      ]
    },
    {
      "cell_type": "code",
      "source": [
        "#Precision, Recall 계산\n",
        "\n",
        "from sklearn.metrics import accuracy_score, precision_score, recall_score\n",
        "\n",
        "print ('Threshold : ', custom_threshold)\n",
        "print ('Accuracy : ', accuracy_score(y_test, custom_predict)) #정답, 예측값\n",
        "print ('Precision : ', precision_score(y_test, custom_predict))\n",
        "print ('Recall : ', recall_score(y_test, custom_predict))"
      ],
      "metadata": {
        "colab": {
          "base_uri": "https://localhost:8080/"
        },
        "id": "ODoVYE25VU3N",
        "outputId": "fd8a13f2-ca4f-493b-ddf7-e8b07024b9b3"
      },
      "execution_count": null,
      "outputs": [
        {
          "output_type": "stream",
          "name": "stdout",
          "text": [
            "Threshold :  0.9\n",
            "Accuracy :  0.9638461538461538\n",
            "Precision :  0.9962962962962963\n",
            "Recall :  0.8539682539682539\n"
          ]
        }
      ]
    },
    {
      "cell_type": "code",
      "source": [
        "#ROC 커브 코드\n",
        "from sklearn.metrics import roc_curve, roc_auc_score\n",
        "import matplotlib.pyplot as plt\n",
        "\n",
        "pred_proba_1 = log_reg.predict_proba(X_test)[:, 1]\n",
        "fpr, tpr, thresholds = roc_curve(y_test, pred_proba_1)\n",
        "#fallout 가로 , recall 세로, threshold\n",
        "#정답, 예측 확률 \n",
        "plt.figure(figsize = (8,8))\n",
        "plt.plot(fpr, tpr, label = 'LogisticRegression')\n",
        "plt.plot([0, 1], [0, 1], 'k--', label = 'random guess')\n",
        "#기준선 k: 검은색 실선 \n",
        "plt.title(\"ROC. AUC : \" + str(roc_auc_score(y_test, pred_proba_1)))\n",
        "plt.legend()\n",
        "plt.show()"
      ],
      "metadata": {
        "colab": {
          "base_uri": "https://localhost:8080/",
          "height": 499
        },
        "id": "zfw5J_LTVb2Y",
        "outputId": "863b9c0a-fd10-477e-fddd-54a7b7c29612"
      },
      "execution_count": null,
      "outputs": [
        {
          "output_type": "display_data",
          "data": {
            "text/plain": [
              "<Figure size 576x576 with 1 Axes>"
            ],
            "image/png": "[encoded data removed]"
          },
          "metadata": {
            "needs_background": "light"
          }
        }
      ]
    },
    {
      "cell_type": "code",
      "source": [
        "#Precision Recall 커브 곡선\n",
        "from sklearn.metrics import precision_recall_curve\n",
        "precisions, recalls, thresholds = precision_recall_curve(y_test, pred_proba_1)\n",
        "\n",
        "plt.figure(figsize=(8, 8))\n",
        "plt.plot(thresholds, precisions[:len(thresholds)], label='precision')\n",
        "plt.plot(thresholds, recalls[:len(thresholds)], label='recall')\n",
        "plt.legend()\n",
        "plt.grid()\n",
        "plt.xlabel('threshold')\n",
        "plt.show()"
      ],
      "metadata": {
        "colab": {
          "base_uri": "https://localhost:8080/",
          "height": 497
        },
        "id": "lbpQEDnIVfEV",
        "outputId": "826af129-f7d9-4d3e-a76e-f6f80e6b5200"
      },
      "execution_count": null,
      "outputs": [
        {
          "output_type": "display_data",
          "data": {
            "text/plain": [
              "<Figure size 576x576 with 1 Axes>"
            ],
            "image/png": "[encoded data removed]"
          },
          "metadata": {
            "needs_background": "light"
          }
        }
      ]
    }
  ]
}