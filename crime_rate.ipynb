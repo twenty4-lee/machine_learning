{
  "nbformat": 4,
  "nbformat_minor": 0,
  "metadata": {
    "colab": {
      "name": "Week10_lab_Visualization.ipynb",
      "provenance": [],
      "collapsed_sections": []
    },
    "kernelspec": {
      "name": "python3",
      "display_name": "Python 3"
    }
  },
  "cells": [
    {
      "cell_type": "code",
      "metadata": {
        "id": "kS0X2-gw5-7B"
      },
      "source": [
        "!apt-get update -qq\n",
        "!apt-get install fonts-nanum* -qq"
      ],
      "execution_count": null,
      "outputs": []
    },
    {
      "cell_type": "code",
      "metadata": {
        "id": "phY8xs1T5_H0"
      },
      "source": [
        "import matplotlib.pyplot as plt\n",
        "%matplotlib inline\n",
        "\n",
        "import matplotlib as mpl\n",
        "\n",
        "plt.rcParams['axes.unicode_minus'] = False\n",
        "\n",
        "path = '/usr/share/fonts/truetype/nanum/NanumGothicEco.ttf'\n",
        "font_name = mpl.font_manager.FontProperties(fname=path).get_name()\n",
        "\n",
        "mpl.rc('font', family=font_name)\n",
        "\n",
        "mpl.font_manager._rebuild()"
      ],
      "execution_count": null,
      "outputs": []
    },
    {
      "cell_type": "code",
      "metadata": {
        "id": "hrskqPae5_PE"
      },
      "source": [
        "plt.plot([0,1], [0,1])\n",
        "plt.title('한글 연습')\n",
        "plt.show()"
      ],
      "execution_count": null,
      "outputs": []
    },
    {
      "cell_type": "code",
      "metadata": {
        "id": "jGISFmTk5bZR"
      },
      "source": [
        "import numpy as np\n",
        "import pandas as pd\n",
        "\n",
        "crime_raw_data = pd.read_csv('2018년.csv', encoding = 'euc-kr')\n",
        "crime_raw_data.head()"
      ],
      "execution_count": null,
      "outputs": []
    },
    {
      "cell_type": "code",
      "metadata": {
        "id": "pV40a6mF6MiR"
      },
      "source": [
        "crime_raw_data.info()"
      ],
      "execution_count": null,
      "outputs": []
    },
    {
      "cell_type": "code",
      "metadata": {
        "id": "ca_glh9C9zyI"
      },
      "source": [
        "crime_raw_data['죄종'].unique()"
      ],
      "execution_count": null,
      "outputs": []
    },
    {
      "cell_type": "code",
      "metadata": {
        "id": "G2jnptmOCMjh"
      },
      "source": [
        "crime_raw_data = crime_raw_data[crime_raw_data['죄종'].notnull()]\n",
        "crime_raw_data.info()"
      ],
      "execution_count": null,
      "outputs": []
    },
    {
      "cell_type": "code",
      "metadata": {
        "id": "rR3S4tH8Cdvy"
      },
      "source": [
        "crime_station = crime_raw_data.pivot_table(\n",
        "    crime_raw_data, index = ['구분'], columns = ['죄종', '발생검거'], aggfunc = np.sum\n",
        ")\n",
        "\n",
        "crime_station.head()"
      ],
      "execution_count": null,
      "outputs": []
    },
    {
      "cell_type": "code",
      "metadata": {
        "id": "jVHQZNztDYz1"
      },
      "source": [
        "crime_station.columns"
      ],
      "execution_count": null,
      "outputs": []
    },
    {
      "cell_type": "code",
      "metadata": {
        "id": "ICinaDVhD76J"
      },
      "source": [
        "crime_station.columns = crime_station.columns.droplevel([0])\n",
        "crime_station.columns"
      ],
      "execution_count": null,
      "outputs": []
    },
    {
      "cell_type": "code",
      "metadata": {
        "id": "UeordzRMEWC7"
      },
      "source": [
        "crime_station['강도', '검거']"
      ],
      "execution_count": null,
      "outputs": []
    },
    {
      "cell_type": "code",
      "metadata": {
        "id": "-t8BOEOSEWIC"
      },
      "source": [
        "crime_station['살인', '발생']"
      ],
      "execution_count": null,
      "outputs": []
    },
    {
      "cell_type": "code",
      "metadata": {
        "id": "2-WjVACSFj3l"
      },
      "source": [
        "crime_station.loc['강남', ('강도', '발생')]"
      ],
      "execution_count": null,
      "outputs": []
    },
    {
      "cell_type": "code",
      "metadata": {
        "id": "O624Q8U2EWMo"
      },
      "source": [
        "crime_station.head()"
      ],
      "execution_count": null,
      "outputs": []
    },
    {
      "cell_type": "code",
      "metadata": {
        "id": "Pppq-MISEWQZ"
      },
      "source": [
        "tmp = crime_station.columns.get_level_values(0) + \\\n",
        "crime_station.columns.get_level_values(1)\n",
        "\n",
        "tmp"
      ],
      "execution_count": null,
      "outputs": []
    },
    {
      "cell_type": "code",
      "metadata": {
        "id": "rY9kD7L1EWUg"
      },
      "source": [
        "crime_station.columns = tmp\n",
        "crime_station.head()"
      ],
      "execution_count": null,
      "outputs": []
    },
    {
      "cell_type": "code",
      "metadata": {
        "id": "Oen_lzVVEWYj"
      },
      "source": [
        "crime_station.info()"
      ],
      "execution_count": null,
      "outputs": []
    },
    {
      "cell_type": "code",
      "metadata": {
        "id": "jRjuJmaVF5Ni"
      },
      "source": [
        "real_gu = {'종로구' : ['종로', '혜화'], '중구' : ['남대문', '중부'],\n",
        "           '용산구' : ['용산'], '성동구' : ['성동'],\n",
        "           '광진구' : ['광진'], '동대문구' : ['동대문'],\n",
        "           '중랑구' : ['중랑'], '성북구' : ['성북', '종암'],\n",
        "           '강북구' : ['강북'], '도봉구' : ['도봉'],\n",
        "           '노원구' : ['노원'], '은평구' : ['서부', '은평'],\n",
        "           '서대문구' : ['서대문'], '마포구' : ['마포'],\n",
        "           '양천구' : ['양천'], '강서구' : ['강서'],\n",
        "           '구로구' : ['구로'], '금천구' : ['금천'],\n",
        "           '영등포구' : ['영등포'], '동작구' : ['동작'],\n",
        "           '관악구' : ['관악'], '서초구' : ['방배', '서초'],\n",
        "           '강남구' : ['강남', '수서'], '송파구' : ['송파'],\n",
        "           '강동구' : ['강동']}"
      ],
      "execution_count": null,
      "outputs": []
    },
    {
      "cell_type": "code",
      "metadata": {
        "id": "iSe8-E6aEWcr"
      },
      "source": [
        "for gu_name, station_name in real_gu.items():\n",
        "    if '강남' in station_name:\n",
        "        print(gu_name)"
      ],
      "execution_count": null,
      "outputs": []
    },
    {
      "cell_type": "code",
      "metadata": {
        "id": "2k3wfyVFEWgK"
      },
      "source": [
        "tmp_gu = []\n",
        "\n",
        "for station in crime_station.index:\n",
        "    for gu_name, station_name in real_gu.items():\n",
        "        if station in station_name:\n",
        "            tmp_gu.append(gu_name)\n",
        "\n",
        "tmp_gu"
      ],
      "execution_count": null,
      "outputs": []
    },
    {
      "cell_type": "code",
      "metadata": {
        "id": "j24TaIuVEWj4"
      },
      "source": [
        "crime_station['구'] = tmp_gu\n",
        "crime_station"
      ],
      "execution_count": null,
      "outputs": []
    },
    {
      "cell_type": "code",
      "metadata": {
        "id": "yeVaoUoyEWnt"
      },
      "source": [
        "crime_gu = pd.pivot_table(crime_station, index = '구', aggfunc = np.sum)\n",
        "crime_gu.head()"
      ],
      "execution_count": null,
      "outputs": []
    },
    {
      "cell_type": "code",
      "metadata": {
        "id": "Ycka0Op0EWrb"
      },
      "source": [
        "crime_gu['살인발생'].sort_values(ascending = False).head()"
      ],
      "execution_count": null,
      "outputs": []
    },
    {
      "cell_type": "code",
      "metadata": {
        "id": "ai_t6fb1EWvP"
      },
      "source": [
        "crime_gu['폭력발생'].sort_values(ascending = False).head()"
      ],
      "execution_count": null,
      "outputs": []
    },
    {
      "cell_type": "code",
      "metadata": {
        "id": "YOxhD_3ZEWzS"
      },
      "source": [
        "crime_gu['강도발생'].sort_values(ascending = False).head()"
      ],
      "execution_count": null,
      "outputs": []
    },
    {
      "cell_type": "code",
      "metadata": {
        "id": "_ZuqdJAtEW3q"
      },
      "source": [
        "crime_gu['절도발생'].sort_values(ascending = False).head()"
      ],
      "execution_count": null,
      "outputs": []
    },
    {
      "cell_type": "code",
      "metadata": {
        "id": "OYmIaSueEW7l"
      },
      "source": [
        "crime_gu['강간발생'].sort_values(ascending = False).head()"
      ],
      "execution_count": null,
      "outputs": []
    },
    {
      "cell_type": "code",
      "metadata": {
        "id": "II5ZFLM4EW_Z"
      },
      "source": [
        "crime_gu['강도검거']/crime_gu['강도발생']"
      ],
      "execution_count": null,
      "outputs": []
    },
    {
      "cell_type": "code",
      "metadata": {
        "id": "zSZoboSJEXDN"
      },
      "source": [
        "num = ['강간검거', '강도검거', '살인검거', '절도검거', '폭력검거']\n",
        "den = ['강간발생', '강도발생', '살인발생', '절도발생', '폭력발생']\n",
        "\n",
        "crime_gu[num].div(crime_gu[den].values)"
      ],
      "execution_count": null,
      "outputs": []
    },
    {
      "cell_type": "code",
      "metadata": {
        "id": "Yp-fKNhzEXHI"
      },
      "source": [
        "target = ['강간검거율', '강도검거율', '살인검거율', '절도검거율', '폭력검거율']\n",
        "\n",
        "crime_gu[target] = crime_gu[num].div(crime_gu[den].values) * 100\n",
        "crime_gu.head()"
      ],
      "execution_count": null,
      "outputs": []
    },
    {
      "cell_type": "code",
      "metadata": {
        "id": "9mINMZJzVJNw"
      },
      "source": [
        "crime_gu = crime_gu.drop(columns = num)\n",
        "crime_gu.head()"
      ],
      "execution_count": null,
      "outputs": []
    },
    {
      "cell_type": "code",
      "metadata": {
        "id": "bRPH4RIQEXLK"
      },
      "source": [
        "crime_gu[target] > 100"
      ],
      "execution_count": null,
      "outputs": []
    },
    {
      "cell_type": "code",
      "metadata": {
        "id": "w2RIU7ugEXOu"
      },
      "source": [
        "crime_gu[crime_gu[target] > 100] = 100\n",
        "crime_gu"
      ],
      "execution_count": null,
      "outputs": []
    },
    {
      "cell_type": "code",
      "metadata": {
        "id": "l2jR-OVIUTg9"
      },
      "source": [
        "crime_gu.rename(columns = {'강간발생' : '강간',\n",
        "                           '강도발생' : '강도',\n",
        "                           '살인발생' : '살인',\n",
        "                           '절도발생' : '절도',\n",
        "                           '폭력발생' : '폭력'},\n",
        "                inplace = True)\n",
        "crime_gu.head()"
      ],
      "execution_count": null,
      "outputs": []
    },
    {
      "cell_type": "code",
      "metadata": {
        "id": "IeS9lwnqUTlS"
      },
      "source": [
        "col = ['살인', '강도', '강간', '절도', '폭력']\n",
        "crime_gu_norm = crime_gu[col] / crime_gu[col].max()\n",
        "crime_gu_norm.head()"
      ],
      "execution_count": null,
      "outputs": []
    },
    {
      "cell_type": "code",
      "metadata": {
        "id": "htkloC-9UTpt"
      },
      "source": [
        "col2 = ['강간검거율', '강도검거율', '살인검거율', '절도검거율', '폭력검거율']\n",
        "crime_gu_norm[col2] = crime_gu[col2]\n",
        "crime_gu_norm.head()"
      ],
      "execution_count": null,
      "outputs": []
    },
    {
      "cell_type": "code",
      "metadata": {
        "id": "zpmQgBQmUTtj"
      },
      "source": [
        "crime_gu_norm['범죄'] = np.mean(crime_gu_norm[col], axis = 1)\n",
        "crime_gu_norm.head()"
      ],
      "execution_count": null,
      "outputs": []
    },
    {
      "cell_type": "code",
      "metadata": {
        "id": "rrjkkewOUTxR"
      },
      "source": [
        "crime_gu_norm['범죄'].sort_values(ascending = False).head()"
      ],
      "execution_count": null,
      "outputs": []
    },
    {
      "cell_type": "code",
      "metadata": {
        "id": "A7dudZYNUT0y"
      },
      "source": [
        "crime_gu_norm['검거'] = np.mean(crime_gu_norm[col2], axis = 1)\n",
        "crime_gu_norm.head()"
      ],
      "execution_count": null,
      "outputs": []
    },
    {
      "cell_type": "code",
      "metadata": {
        "id": "23EZsvrWUT49"
      },
      "source": [
        "crime_gu_norm['검거'].sort_values(ascending = False).head()"
      ],
      "execution_count": null,
      "outputs": []
    },
    {
      "cell_type": "code",
      "metadata": {
        "id": "CSRMWRz5UT82"
      },
      "source": [
        "crime_gu_norm['검거'].sort_values().head()"
      ],
      "execution_count": null,
      "outputs": []
    },
    {
      "cell_type": "code",
      "metadata": {
        "id": "IkiKKBEGUUAx"
      },
      "source": [
        "import seaborn as sns\n",
        "\n",
        "target_col = ['강간검거율', '강도검거율', '살인검거율', '절도검거율', '폭력검거율', '검거']\n",
        "\n",
        "crime_gu_norm_sort = crime_gu_norm.sort_values(by = '검거', ascending = False)\n",
        "\n",
        "plt.figure(figsize = (10, 10))\n",
        "sns.heatmap(crime_gu_norm_sort[target_col],\n",
        "            annot = True, fmt = 'f', linewidth = .5, cmap = 'RdPu')\n",
        "plt.title('범죄 검거 비율 (정규화된 검거의 합으로 정렬)')\n",
        "plt.show()"
      ],
      "execution_count": null,
      "outputs": []
    },
    {
      "cell_type": "code",
      "metadata": {
        "id": "ZJo4HGyOZFAt"
      },
      "source": [
        "target_col = ['강간', '강도', '살인', '절도', '폭력', '범죄']\n",
        "\n",
        "crime_gu_norm_sort = crime_gu_norm.sort_values(by = '범죄', ascending = False)\n",
        "\n",
        "plt.figure(figsize = (10, 10))\n",
        "sns.heatmap(crime_gu_norm_sort[target_col],\n",
        "            annot = True, fmt = 'f', linewidth = .5, cmap = 'RdPu')\n",
        "plt.title('범죄 비율 (정규화된 발생 건수로 정렬)')\n",
        "plt.show()"
      ],
      "execution_count": null,
      "outputs": []
    },
    {
      "cell_type": "code",
      "metadata": {
        "id": "3ZTXzYm0ZFE0"
      },
      "source": [
        "import folium\n",
        "\n",
        "m = folium.Map(location=[45.5236, -122.6750])\n",
        "m"
      ],
      "execution_count": null,
      "outputs": []
    },
    {
      "cell_type": "code",
      "metadata": {
        "id": "89vLoFcsZFJS"
      },
      "source": [
        "folium.Map(location = [22.20111, 113.54417], tiles = 'Stamen Toner', zoom_start = 13)"
      ],
      "execution_count": null,
      "outputs": []
    },
    {
      "cell_type": "code",
      "metadata": {
        "id": "mvkLFU0lZFNC"
      },
      "source": [
        "folium.Map(location = [22.20111, 113.54417], tiles = 'Stamen Terrain', zoom_start = 13)"
      ],
      "execution_count": null,
      "outputs": []
    },
    {
      "cell_type": "code",
      "metadata": {
        "id": "plCLSLeqZFQd"
      },
      "source": [
        "folium.Map(location = [22.20111, 113.54417], tiles = 'Stamen Watercolor', zoom_start = 13)"
      ],
      "execution_count": null,
      "outputs": []
    },
    {
      "cell_type": "code",
      "metadata": {
        "id": "gKQxA-nGZFUH"
      },
      "source": [
        "my_map = folium.Map(location = [45.372, -121.6972], zoom_start = 12,\n",
        "                    tiles = 'Stamen Terrain')\n",
        "\n",
        "folium.Marker([45.3288, -121.6625],\n",
        "              popup = '<i>Mt. Hood Meadows</i>').add_to(my_map)\n",
        "folium.Marker([45.3311, -121.7113],\n",
        "              popup = '<b>Timberline Lodge</b>').add_to(my_map)\n",
        "\n",
        "my_map"
      ],
      "execution_count": null,
      "outputs": []
    },
    {
      "cell_type": "code",
      "metadata": {
        "id": "uck_ZRO9ZFbs"
      },
      "source": [
        "m = folium.Map(location = [45.5236, -122.6750], tiles = 'Stamen Toner',\n",
        "               zoom_start = 13)\n",
        "\n",
        "folium.CircleMarker(location = [45.5215, -122.6261], radius=50,\n",
        "                    popup = 'Laurelhurst Park', color = '#3186cc',\n",
        "                    fill = True, fill_color = '#3186cc').add_to(m)\n",
        "\n",
        "m"
      ],
      "execution_count": null,
      "outputs": []
    },
    {
      "cell_type": "code",
      "metadata": {
        "id": "_1qTnfceZFm5"
      },
      "source": [
        "import json\n",
        "\n",
        "\n",
        "geo_str = json.load(open('./skorea_municipalities_geo_simple.json', encoding = 'utf-8'))\n",
        "geo_str"
      ],
      "execution_count": null,
      "outputs": []
    },
    {
      "cell_type": "code",
      "metadata": {
        "id": "l1IV0QpLwJaY"
      },
      "source": [
        "crime_gu.head()"
      ],
      "execution_count": null,
      "outputs": []
    },
    {
      "cell_type": "code",
      "metadata": {
        "id": "8h_sIVu73-MS"
      },
      "source": [
        "crime_gu.reset_index().rename(columns = {\"index\": \"구\"})\n",
        "crime_gu.rename_axis('구').reset_index()\n",
        "crime_gu.index.name = '구'\n",
        "crime_gu = crime_gu.reset_index()\n",
        "crime_gu.head()"
      ],
      "execution_count": null,
      "outputs": []
    },
    {
      "cell_type": "code",
      "metadata": {
        "id": "7dZmi-qoZFqw"
      },
      "source": [
        "my_map = folium.Map(location = [37.5502, 126.982], zoom_start = 12,\n",
        "                    tiles = 'Stamen Toner')\n",
        "\n",
        "folium.Choropleth(\n",
        "    geo_data = geo_str,\n",
        "    data = crime_gu, columns = ['구','살인'],\n",
        "    nan_fill_color = 'purple', nan_fill_opacity = 0.4,\n",
        "    key_on = 'feature.id', fill_color = 'PuRd',\n",
        "    legend_name = 'Number of murder cases'\n",
        ").add_to(my_map)\n",
        "\n",
        "my_map"
      ],
      "execution_count": null,
      "outputs": []
    },
    {
      "cell_type": "code",
      "metadata": {
        "id": "jLoWKjfoZFui"
      },
      "source": [
        "my_map = folium.Map(location = [37.5502, 126.982], zoom_start = 12,\n",
        "                    tiles = 'Stamen Toner')\n",
        "\n",
        "folium.Choropleth(\n",
        "    geo_data = geo_str,\n",
        "    data = crime_gu, columns = ['구','절도'],\n",
        "    nan_fill_color = 'purple', nan_fill_opacity = 0.4,\n",
        "    key_on = 'feature.id', fill_color = 'PuRd',\n",
        "    legend_name = 'Number of theft cases'\n",
        ").add_to(my_map)\n",
        "\n",
        "my_map"
      ],
      "execution_count": null,
      "outputs": []
    },
    {
      "cell_type": "code",
      "metadata": {
        "id": "WrSjOQl5ZFyM"
      },
      "source": [
        "my_map = folium.Map(location = [37.5502, 126.982], zoom_start = 12,\n",
        "                    tiles = 'Stamen Toner')\n",
        "\n",
        "folium.Choropleth(\n",
        "    geo_data = geo_str,\n",
        "    data = crime_gu, columns = ['구','폭력'],\n",
        "    nan_fill_color = 'purple', nan_fill_opacity = 0.4,\n",
        "    key_on = 'feature.id', fill_color = 'PuRd',\n",
        "    legend_name = 'Number of violence cases'\n",
        ").add_to(my_map)\n",
        "\n",
        "my_map"
      ],
      "execution_count": null,
      "outputs": []
    }
  ]
}